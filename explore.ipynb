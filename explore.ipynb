{
 "cells": [
  {
   "cell_type": "code",
   "execution_count": 1,
   "metadata": {},
   "outputs": [],
   "source": [
    "from game2048.game import Game\n",
    "from game2048.displays import Display, IPythonDisplay\n",
    "from game2048.agents import Agent, RandomAgent, ExpectiMaxAgent"
   ]
  },
  {
   "cell_type": "code",
   "execution_count": 2,
   "metadata": {},
   "outputs": [],
   "source": [
    "display1 = Display()\n",
    "display2 = IPythonDisplay()"
   ]
  },
  {
   "cell_type": "code",
   "execution_count": 6,
   "metadata": {},
   "outputs": [
    {
     "name": "stdout",
     "output_type": "stream",
     "text": [
      "State:\t       0       0       0       0\n",
      "\t       2       0       2       0\n",
      "\t       0       0       0       0\n",
      "\t       0       0       0       0\n",
      "Score: 2\n"
     ]
    },
    {
     "data": {
      "text/html": [
       "<h1>Score: 2</h1><table style=\"border: 5px solid black;\"><tr><td style=\"border:3px solid black; text-align:center;\"\n",
       "         width=\"40\" height=\"40\"></td><td style=\"border:3px solid black; text-align:center;\"\n",
       "         width=\"40\" height=\"40\"></td><td style=\"border:3px solid black; text-align:center;\"\n",
       "         width=\"40\" height=\"40\"></td><td style=\"border:3px solid black; text-align:center;\"\n",
       "         width=\"40\" height=\"40\"></td></tr><tr><td style=\"border:3px solid black; text-align:center;\"\n",
       "         width=\"40\" height=\"40\">2</td><td style=\"border:3px solid black; text-align:center;\"\n",
       "         width=\"40\" height=\"40\"></td><td style=\"border:3px solid black; text-align:center;\"\n",
       "         width=\"40\" height=\"40\">2</td><td style=\"border:3px solid black; text-align:center;\"\n",
       "         width=\"40\" height=\"40\"></td></tr><tr><td style=\"border:3px solid black; text-align:center;\"\n",
       "         width=\"40\" height=\"40\"></td><td style=\"border:3px solid black; text-align:center;\"\n",
       "         width=\"40\" height=\"40\"></td><td style=\"border:3px solid black; text-align:center;\"\n",
       "         width=\"40\" height=\"40\"></td><td style=\"border:3px solid black; text-align:center;\"\n",
       "         width=\"40\" height=\"40\"></td></tr><tr><td style=\"border:3px solid black; text-align:center;\"\n",
       "         width=\"40\" height=\"40\"></td><td style=\"border:3px solid black; text-align:center;\"\n",
       "         width=\"40\" height=\"40\"></td><td style=\"border:3px solid black; text-align:center;\"\n",
       "         width=\"40\" height=\"40\"></td><td style=\"border:3px solid black; text-align:center;\"\n",
       "         width=\"40\" height=\"40\"></td></tr></table>"
      ],
      "text/plain": [
       "<IPython.core.display.HTML object>"
      ]
     },
     "metadata": {},
     "output_type": "display_data"
    },
    {
     "name": "stdout",
     "output_type": "stream",
     "text": [
      "Iter: 1\n",
      "======Direction: left======\n",
      "State:\t       0       0       0       0\n",
      "\t       4       0       0       0\n",
      "\t       0       0       0       0\n",
      "\t       0       0       0       2\n",
      "Score: 4\n",
      "Iter: 2\n",
      "======Direction: down======\n",
      "State:\t       0       0       0       0\n",
      "\t       0       0       0       2\n",
      "\t       0       0       0       0\n",
      "\t       4       0       0       2\n",
      "Score: 4\n",
      "Iter: 3\n",
      "======Direction: right======\n",
      "State:\t       0       0       0       4\n",
      "\t       0       0       0       2\n",
      "\t       0       0       0       0\n",
      "\t       0       0       4       2\n",
      "Score: 4\n",
      "Iter: 4\n",
      "======Direction: left======\n",
      "State:\t       4       0       0       0\n",
      "\t       2       0       0       0\n",
      "\t       0       2       0       0\n",
      "\t       4       2       0       0\n",
      "Score: 4\n",
      "Iter: 5\n",
      "======Direction: left======\n",
      "State:\t       4       0       0       0\n",
      "\t       2       0       0       0\n",
      "\t       2       0       0       0\n",
      "\t       4       2       0       4\n",
      "Score: 4\n",
      "Iter: 6\n",
      "======Direction: right======\n",
      "State:\t       0       0       0       4\n",
      "\t       0       0       0       2\n",
      "\t       0       0       4       2\n",
      "\t       0       4       2       4\n",
      "Score: 4\n",
      "Iter: 7\n",
      "======Direction: right======\n",
      "State:\t       0       0       0       4\n",
      "\t       0       0       0       2\n",
      "\t       2       0       4       2\n",
      "\t       0       4       2       4\n",
      "Score: 4\n",
      "Iter: 8\n",
      "======Direction: right======\n",
      "State:\t       0       0       4       4\n",
      "\t       0       0       0       2\n",
      "\t       0       2       4       2\n",
      "\t       0       4       2       4\n",
      "Score: 4\n",
      "Iter: 9\n",
      "======Direction: down======\n",
      "State:\t       0       0       0       2\n",
      "\t       0       0       0       4\n",
      "\t       0       2       8       4\n",
      "\t       0       4       2       4\n",
      "Score: 8\n",
      "Iter: 10\n",
      "======Direction: up======\n",
      "State:\t       0       2       8       2\n",
      "\t       0       4       2       8\n",
      "\t       0       0       0       4\n",
      "\t       0       0       0       4\n",
      "Score: 8\n",
      "Iter: 11\n",
      "======Direction: right======\n",
      "State:\t       0       2       8       2\n",
      "\t       0       4       2       8\n",
      "\t       0       0       0       4\n",
      "\t       0       0       2       4\n",
      "Score: 8\n",
      "Iter: 12\n",
      "======Direction: right======\n",
      "State:\t       0       2       8       2\n",
      "\t       0       4       2       8\n",
      "\t       0       0       4       4\n",
      "\t       0       0       2       4\n",
      "Score: 8\n",
      "Iter: 13\n",
      "======Direction: down======\n",
      "State:\t       0       0       8       0\n",
      "\t       0       4       2       2\n",
      "\t       0       2       4       8\n",
      "\t       0       4       2       8\n",
      "Score: 8\n",
      "Iter: 14\n",
      "======Direction: down======\n",
      "State:\t       0       0       8       0\n",
      "\t       4       4       2       0\n",
      "\t       0       2       4       2\n",
      "\t       0       4       2      16\n",
      "Score: 16\n",
      "Iter: 15\n",
      "======Direction: left======\n",
      "State:\t       8       0       0       0\n",
      "\t       8       2       0       0\n",
      "\t       2       4       2       0\n",
      "\t       4       2      16       2\n",
      "Score: 16\n",
      "Iter: 16\n",
      "======Direction: down======\n",
      "State:\t       0       4       0       0\n",
      "\t      16       2       0       0\n",
      "\t       2       4       2       0\n",
      "\t       4       2      16       2\n",
      "Score: 16\n",
      "Iter: 17\n",
      "======Direction: left======\n",
      "State:\t       4       0       0       0\n",
      "\t      16       2       0       2\n",
      "\t       2       4       2       0\n",
      "\t       4       2      16       2\n",
      "Score: 16\n",
      "Iter: 18\n",
      "======Direction: right======\n",
      "State:\t       0       0       0       4\n",
      "\t       0       0      16       4\n",
      "\t       4       2       4       2\n",
      "\t       4       2      16       2\n",
      "Score: 16\n",
      "Iter: 19\n",
      "======Direction: up======\n",
      "State:\t       8       4      16       8\n",
      "\t       0       0       4       4\n",
      "\t       0       0      16       0\n",
      "\t       0       0       0       4\n",
      "Score: 16\n",
      "Iter: 20\n",
      "======Direction: right======\n",
      "State:\t       8       4      16       8\n",
      "\t       2       0       0       8\n",
      "\t       0       0       0      16\n",
      "\t       0       0       0       4\n",
      "Score: 16\n",
      "Iter: 21\n",
      "======Direction: left======\n",
      "State:\t       8       4      16       8\n",
      "\t       2       8       0       0\n",
      "\t      16       0       0       0\n",
      "\t       4       0       4       0\n",
      "Score: 16\n",
      "Iter: 22\n",
      "======Direction: left======\n",
      "State:\t       8       4      16       8\n",
      "\t       2       8       0       2\n",
      "\t      16       0       0       0\n",
      "\t       8       0       0       0\n",
      "Score: 16\n",
      "Iter: 23\n",
      "======Direction: down======\n",
      "State:\t       8       2       0       0\n",
      "\t       2       0       0       0\n",
      "\t      16       4       0       8\n",
      "\t       8       8      16       2\n",
      "Score: 16\n",
      "Iter: 24\n",
      "======Direction: down======\n",
      "State:\t       8       0       0       4\n",
      "\t       2       2       0       0\n",
      "\t      16       4       0       8\n",
      "\t       8       8      16       2\n",
      "Score: 16\n",
      "Iter: 25\n",
      "======Direction: right======\n",
      "State:\t       4       0       8       4\n",
      "\t       0       0       0       4\n",
      "\t       0      16       4       8\n",
      "\t       0      16      16       2\n",
      "Score: 16\n",
      "Iter: 26\n",
      "======Direction: down======\n",
      "State:\t       0       0       0       4\n",
      "\t       0       0       8       8\n",
      "\t       0       0       4       8\n",
      "\t       4      32      16       2\n",
      "Score: 32\n",
      "Iter: 27\n",
      "======Direction: up======\n",
      "State:\t       4      32       8       4\n",
      "\t       0       0       4      16\n",
      "\t       0       0      16       2\n",
      "\t       0       0       2       0\n",
      "Score: 32\n",
      "Iter: 28\n",
      "======Direction: up======\n",
      "State:\t       4      32       8       4\n",
      "\t       0       4       4      16\n",
      "\t       0       0      16       2\n",
      "\t       0       0       2       0\n",
      "Score: 32\n",
      "Iter: 29\n",
      "======Direction: down======\n",
      "State:\t       2       0       8       0\n",
      "\t       0       0       4       4\n",
      "\t       0      32      16      16\n",
      "\t       4       4       2       2\n",
      "Score: 32\n",
      "Iter: 30\n",
      "======Direction: left======\n",
      "State:\t       2       8       0       0\n",
      "\t       8       0       0       0\n",
      "\t      32      32       0       0\n",
      "\t       8       4       0       2\n",
      "Score: 32\n",
      "Iter: 31\n",
      "======Direction: left======\n",
      "State:\t       2       8       0       4\n",
      "\t       8       0       0       0\n",
      "\t      64       0       0       0\n",
      "\t       8       4       2       0\n",
      "Score: 64\n",
      "Iter: 32\n",
      "======Direction: left======\n",
      "State:\t       2       8       4       0\n",
      "\t       8       0       0       0\n",
      "\t      64       4       0       0\n",
      "\t       8       4       2       0\n",
      "Score: 64\n",
      "Iter: 33\n",
      "======Direction: up======\n",
      "State:\t       2       8       4       0\n",
      "\t       8       8       2       0\n",
      "\t      64       0       0       0\n",
      "\t       8       4       0       0\n",
      "Score: 64\n",
      "Iter: 34\n",
      "======Direction: up======\n",
      "State:\t       2      16       4       0\n",
      "\t       8       4       2       0\n",
      "\t      64       0       0       0\n",
      "\t       8       0       0       4\n",
      "Score: 64\n",
      "Iter: 35\n",
      "======Direction: right======\n",
      "State:\t       0       2      16       4\n",
      "\t       0       8       4       2\n",
      "\t       0       4       0      64\n",
      "\t       0       0       8       4\n",
      "Score: 64\n",
      "Iter: 36\n",
      "======Direction: left======\n",
      "State:\t       2      16       4       0\n",
      "\t       8       4       2       0\n",
      "\t       4      64       0       4\n",
      "\t       8       4       0       0\n",
      "Score: 64\n",
      "Iter: 37\n",
      "======Direction: right======\n",
      "State:\t       0       2      16       4\n",
      "\t       0       8       4       2\n",
      "\t       0       4      64       4\n",
      "\t       0       4       8       4\n",
      "Score: 64\n",
      "Iter: 38\n",
      "======Direction: up======\n",
      "State:\t       0       2      16       4\n",
      "\t       0       8       4       2\n",
      "\t       0       8      64       8\n",
      "\t       0       0       8       2\n",
      "Score: 64\n",
      "Iter: 39\n",
      "======Direction: right======\n",
      "State:\t       4       2      16       4\n",
      "\t       0       8       4       2\n",
      "\t       0       8      64       8\n",
      "\t       0       0       8       2\n",
      "Score: 64\n",
      "Iter: 40\n",
      "======Direction: left======\n",
      "State:\t       4       2      16       4\n",
      "\t       8       4       2       0\n",
      "\t       8      64       8       4\n",
      "\t       8       2       0       0\n",
      "Score: 64\n",
      "Iter: 41\n",
      "======Direction: right======\n",
      "State:\t       4       2      16       4\n",
      "\t       2       8       4       2\n",
      "\t       8      64       8       4\n",
      "\t       0       0       8       2\n",
      "Score: 64\n",
      "Iter: 42\n",
      "======Direction: left======\n",
      "State:\t       4       2      16       4\n",
      "\t       2       8       4       2\n",
      "\t       8      64       8       4\n",
      "\t       8       2       2       0\n",
      "Score: 64\n",
      "Iter: 43\n",
      "======Direction: up======\n",
      "State:\t       4       2      16       4\n",
      "\t       2       8       4       2\n",
      "\t      16      64       8       4\n",
      "\t       4       2       2       0\n",
      "Score: 64\n",
      "Iter: 44\n",
      "======Direction: down======\n",
      "State:\t       4       2      16       2\n",
      "\t       2       8       4       4\n",
      "\t      16      64       8       2\n",
      "\t       4       2       2       4\n",
      "Score: 64\n",
      "Iter: 45\n",
      "======Direction: right======\n",
      "State:\t       4       2      16       2\n",
      "\t       0       2       8       8\n",
      "\t      16      64       8       2\n",
      "\t       2       4       4       4\n",
      "Score: 64\n",
      "Iter: 46\n",
      "======Direction: left======\n",
      "State:\t       4       2      16       2\n",
      "\t       2      16       0       4\n",
      "\t      16      64       8       2\n",
      "\t       2       8       4       0\n",
      "Score: 64\n",
      "Iter: 47\n",
      "======Direction: left======\n",
      "State:\t       4       2      16       2\n",
      "\t       2      16       4       0\n",
      "\t      16      64       8       2\n",
      "\t       2       8       4       4\n",
      "Score: 64\n",
      "Iter: 48\n",
      "======Direction: left======\n",
      "State:\t       4       2      16       2\n",
      "\t       2      16       4       2\n",
      "\t      16      64       8       2\n",
      "\t       2       8       8       0\n",
      "Score: 64\n",
      "Iter: 49\n",
      "======Direction: down======\n",
      "State:\t       4       2       0       4\n",
      "\t       2      16      16       0\n",
      "\t      16      64       4       2\n",
      "\t       2       8      16       4\n",
      "Score: 64\n",
      "Iter: 50\n",
      "======Direction: down======\n",
      "State:\t       4       2       2       0\n",
      "\t       2      16      16       4\n",
      "\t      16      64       4       2\n",
      "\t       2       8      16       4\n",
      "Score: 64\n",
      "Iter: 51\n",
      "======Direction: right======\n",
      "State:\t       0       0       4       4\n",
      "\t       4       2      32       4\n",
      "\t      16      64       4       2\n",
      "\t       2       8      16       4\n",
      "Score: 64\n",
      "Iter: 52\n",
      "======Direction: down======\n",
      "State:\t       0       2       4       0\n",
      "\t       4       2      32       8\n",
      "\t      16      64       4       2\n",
      "\t       2       8      16       4\n",
      "Score: 64\n",
      "Iter: 53\n",
      "======Direction: down======\n",
      "State:\t       0       2       4       0\n",
      "\t       4       4      32       8\n",
      "\t      16      64       4       2\n",
      "\t       2       8      16       4\n",
      "Score: 64\n",
      "Iter: 54\n",
      "======Direction: right======\n",
      "State:\t       0       0       2       4\n",
      "\t       4       8      32       8\n",
      "\t      16      64       4       2\n",
      "\t       2       8      16       4\n",
      "Score: 64\n",
      "Iter: 55\n",
      "======Direction: left======\n",
      "State:\t       2       4       0       4\n",
      "\t       4       8      32       8\n",
      "\t      16      64       4       2\n",
      "\t       2       8      16       4\n",
      "Score: 64\n",
      "Iter: 56\n",
      "======Direction: down======\n",
      "State:\t       2       4       2       4\n",
      "\t       4       8      32       8\n",
      "\t      16      64       4       2\n",
      "\t       2       8      16       4\n",
      "Score: 64\n",
      "Iter: 57\n",
      "======Direction: right======\n",
      "State:\t       2       4       2       4\n",
      "\t       4       8      32       8\n",
      "\t      16      64       4       2\n",
      "\t       2       8      16       4\n",
      "Score: 64\n",
      "You lose! Score: 64\n"
     ]
    }
   ],
   "source": [
    "game = Game(4, random=False)\n",
    "display1.display(game)\n",
    "display2.display(game)\n",
    "agent = RandomAgent(game, display=display1)\n",
    "agent.play(verbose=True)"
   ]
  },
  {
   "cell_type": "code",
   "execution_count": 4,
   "metadata": {
    "scrolled": true
   },
   "outputs": [
    {
     "name": "stdout",
     "output_type": "stream",
     "text": [
      "0: left, 1: down, 2: right, 3: up = 0\n",
      "Iter: 1\n",
      "======Direction: left======\n"
     ]
    },
    {
     "data": {
      "text/html": [
       "<h1>Score: 4</h1><table style=\"border: 5px solid black;\"><tr><td style=\"border:3px solid black; text-align:center;\"\n",
       "         width=\"40\" height=\"40\"></td><td style=\"border:3px solid black; text-align:center;\"\n",
       "         width=\"40\" height=\"40\"></td><td style=\"border:3px solid black; text-align:center;\"\n",
       "         width=\"40\" height=\"40\"></td><td style=\"border:3px solid black; text-align:center;\"\n",
       "         width=\"40\" height=\"40\"></td></tr><tr><td style=\"border:3px solid black; text-align:center;\"\n",
       "         width=\"40\" height=\"40\">2</td><td style=\"border:3px solid black; text-align:center;\"\n",
       "         width=\"40\" height=\"40\"></td><td style=\"border:3px solid black; text-align:center;\"\n",
       "         width=\"40\" height=\"40\"></td><td style=\"border:3px solid black; text-align:center;\"\n",
       "         width=\"40\" height=\"40\"></td></tr><tr><td style=\"border:3px solid black; text-align:center;\"\n",
       "         width=\"40\" height=\"40\"></td><td style=\"border:3px solid black; text-align:center;\"\n",
       "         width=\"40\" height=\"40\"></td><td style=\"border:3px solid black; text-align:center;\"\n",
       "         width=\"40\" height=\"40\"></td><td style=\"border:3px solid black; text-align:center;\"\n",
       "         width=\"40\" height=\"40\">4</td></tr><tr><td style=\"border:3px solid black; text-align:center;\"\n",
       "         width=\"40\" height=\"40\">2</td><td style=\"border:3px solid black; text-align:center;\"\n",
       "         width=\"40\" height=\"40\"></td><td style=\"border:3px solid black; text-align:center;\"\n",
       "         width=\"40\" height=\"40\"></td><td style=\"border:3px solid black; text-align:center;\"\n",
       "         width=\"40\" height=\"40\"></td></tr></table>"
      ],
      "text/plain": [
       "<IPython.core.display.HTML object>"
      ]
     },
     "metadata": {},
     "output_type": "display_data"
    },
    {
     "name": "stdout",
     "output_type": "stream",
     "text": [
      "0: left, 1: down, 2: right, 3: up = 1\n",
      "Iter: 2\n",
      "======Direction: down======\n"
     ]
    },
    {
     "data": {
      "text/html": [
       "<h1>Score: 4</h1><table style=\"border: 5px solid black;\"><tr><td style=\"border:3px solid black; text-align:center;\"\n",
       "         width=\"40\" height=\"40\"></td><td style=\"border:3px solid black; text-align:center;\"\n",
       "         width=\"40\" height=\"40\"></td><td style=\"border:3px solid black; text-align:center;\"\n",
       "         width=\"40\" height=\"40\"></td><td style=\"border:3px solid black; text-align:center;\"\n",
       "         width=\"40\" height=\"40\"></td></tr><tr><td style=\"border:3px solid black; text-align:center;\"\n",
       "         width=\"40\" height=\"40\">4</td><td style=\"border:3px solid black; text-align:center;\"\n",
       "         width=\"40\" height=\"40\"></td><td style=\"border:3px solid black; text-align:center;\"\n",
       "         width=\"40\" height=\"40\"></td><td style=\"border:3px solid black; text-align:center;\"\n",
       "         width=\"40\" height=\"40\"></td></tr><tr><td style=\"border:3px solid black; text-align:center;\"\n",
       "         width=\"40\" height=\"40\"></td><td style=\"border:3px solid black; text-align:center;\"\n",
       "         width=\"40\" height=\"40\"></td><td style=\"border:3px solid black; text-align:center;\"\n",
       "         width=\"40\" height=\"40\"></td><td style=\"border:3px solid black; text-align:center;\"\n",
       "         width=\"40\" height=\"40\"></td></tr><tr><td style=\"border:3px solid black; text-align:center;\"\n",
       "         width=\"40\" height=\"40\">4</td><td style=\"border:3px solid black; text-align:center;\"\n",
       "         width=\"40\" height=\"40\"></td><td style=\"border:3px solid black; text-align:center;\"\n",
       "         width=\"40\" height=\"40\"></td><td style=\"border:3px solid black; text-align:center;\"\n",
       "         width=\"40\" height=\"40\">4</td></tr></table>"
      ],
      "text/plain": [
       "<IPython.core.display.HTML object>"
      ]
     },
     "metadata": {},
     "output_type": "display_data"
    },
    {
     "name": "stdout",
     "output_type": "stream",
     "text": [
      "0: left, 1: down, 2: right, 3: up = 1\n",
      "Iter: 3\n",
      "======Direction: down======\n"
     ]
    },
    {
     "data": {
      "text/html": [
       "<h1>Score: 8</h1><table style=\"border: 5px solid black;\"><tr><td style=\"border:3px solid black; text-align:center;\"\n",
       "         width=\"40\" height=\"40\"></td><td style=\"border:3px solid black; text-align:center;\"\n",
       "         width=\"40\" height=\"40\"></td><td style=\"border:3px solid black; text-align:center;\"\n",
       "         width=\"40\" height=\"40\"></td><td style=\"border:3px solid black; text-align:center;\"\n",
       "         width=\"40\" height=\"40\">2</td></tr><tr><td style=\"border:3px solid black; text-align:center;\"\n",
       "         width=\"40\" height=\"40\"></td><td style=\"border:3px solid black; text-align:center;\"\n",
       "         width=\"40\" height=\"40\"></td><td style=\"border:3px solid black; text-align:center;\"\n",
       "         width=\"40\" height=\"40\"></td><td style=\"border:3px solid black; text-align:center;\"\n",
       "         width=\"40\" height=\"40\"></td></tr><tr><td style=\"border:3px solid black; text-align:center;\"\n",
       "         width=\"40\" height=\"40\"></td><td style=\"border:3px solid black; text-align:center;\"\n",
       "         width=\"40\" height=\"40\"></td><td style=\"border:3px solid black; text-align:center;\"\n",
       "         width=\"40\" height=\"40\"></td><td style=\"border:3px solid black; text-align:center;\"\n",
       "         width=\"40\" height=\"40\"></td></tr><tr><td style=\"border:3px solid black; text-align:center;\"\n",
       "         width=\"40\" height=\"40\">8</td><td style=\"border:3px solid black; text-align:center;\"\n",
       "         width=\"40\" height=\"40\"></td><td style=\"border:3px solid black; text-align:center;\"\n",
       "         width=\"40\" height=\"40\"></td><td style=\"border:3px solid black; text-align:center;\"\n",
       "         width=\"40\" height=\"40\">4</td></tr></table>"
      ],
      "text/plain": [
       "<IPython.core.display.HTML object>"
      ]
     },
     "metadata": {},
     "output_type": "display_data"
    },
    {
     "name": "stdout",
     "output_type": "stream",
     "text": [
      "0: left, 1: down, 2: right, 3: up = 1\n",
      "Iter: 4\n",
      "======Direction: down======\n"
     ]
    },
    {
     "data": {
      "text/html": [
       "<h1>Score: 8</h1><table style=\"border: 5px solid black;\"><tr><td style=\"border:3px solid black; text-align:center;\"\n",
       "         width=\"40\" height=\"40\"></td><td style=\"border:3px solid black; text-align:center;\"\n",
       "         width=\"40\" height=\"40\"></td><td style=\"border:3px solid black; text-align:center;\"\n",
       "         width=\"40\" height=\"40\"></td><td style=\"border:3px solid black; text-align:center;\"\n",
       "         width=\"40\" height=\"40\"></td></tr><tr><td style=\"border:3px solid black; text-align:center;\"\n",
       "         width=\"40\" height=\"40\"></td><td style=\"border:3px solid black; text-align:center;\"\n",
       "         width=\"40\" height=\"40\"></td><td style=\"border:3px solid black; text-align:center;\"\n",
       "         width=\"40\" height=\"40\"></td><td style=\"border:3px solid black; text-align:center;\"\n",
       "         width=\"40\" height=\"40\">4</td></tr><tr><td style=\"border:3px solid black; text-align:center;\"\n",
       "         width=\"40\" height=\"40\"></td><td style=\"border:3px solid black; text-align:center;\"\n",
       "         width=\"40\" height=\"40\"></td><td style=\"border:3px solid black; text-align:center;\"\n",
       "         width=\"40\" height=\"40\"></td><td style=\"border:3px solid black; text-align:center;\"\n",
       "         width=\"40\" height=\"40\">2</td></tr><tr><td style=\"border:3px solid black; text-align:center;\"\n",
       "         width=\"40\" height=\"40\">8</td><td style=\"border:3px solid black; text-align:center;\"\n",
       "         width=\"40\" height=\"40\"></td><td style=\"border:3px solid black; text-align:center;\"\n",
       "         width=\"40\" height=\"40\"></td><td style=\"border:3px solid black; text-align:center;\"\n",
       "         width=\"40\" height=\"40\">4</td></tr></table>"
      ],
      "text/plain": [
       "<IPython.core.display.HTML object>"
      ]
     },
     "metadata": {},
     "output_type": "display_data"
    },
    {
     "name": "stdout",
     "output_type": "stream",
     "text": [
      "0: left, 1: down, 2: right, 3: up = 0\n",
      "Iter: 5\n",
      "======Direction: left======\n"
     ]
    },
    {
     "data": {
      "text/html": [
       "<h1>Score: 8</h1><table style=\"border: 5px solid black;\"><tr><td style=\"border:3px solid black; text-align:center;\"\n",
       "         width=\"40\" height=\"40\">4</td><td style=\"border:3px solid black; text-align:center;\"\n",
       "         width=\"40\" height=\"40\"></td><td style=\"border:3px solid black; text-align:center;\"\n",
       "         width=\"40\" height=\"40\"></td><td style=\"border:3px solid black; text-align:center;\"\n",
       "         width=\"40\" height=\"40\"></td></tr><tr><td style=\"border:3px solid black; text-align:center;\"\n",
       "         width=\"40\" height=\"40\">4</td><td style=\"border:3px solid black; text-align:center;\"\n",
       "         width=\"40\" height=\"40\"></td><td style=\"border:3px solid black; text-align:center;\"\n",
       "         width=\"40\" height=\"40\"></td><td style=\"border:3px solid black; text-align:center;\"\n",
       "         width=\"40\" height=\"40\"></td></tr><tr><td style=\"border:3px solid black; text-align:center;\"\n",
       "         width=\"40\" height=\"40\">2</td><td style=\"border:3px solid black; text-align:center;\"\n",
       "         width=\"40\" height=\"40\"></td><td style=\"border:3px solid black; text-align:center;\"\n",
       "         width=\"40\" height=\"40\"></td><td style=\"border:3px solid black; text-align:center;\"\n",
       "         width=\"40\" height=\"40\"></td></tr><tr><td style=\"border:3px solid black; text-align:center;\"\n",
       "         width=\"40\" height=\"40\">8</td><td style=\"border:3px solid black; text-align:center;\"\n",
       "         width=\"40\" height=\"40\">4</td><td style=\"border:3px solid black; text-align:center;\"\n",
       "         width=\"40\" height=\"40\"></td><td style=\"border:3px solid black; text-align:center;\"\n",
       "         width=\"40\" height=\"40\"></td></tr></table>"
      ],
      "text/plain": [
       "<IPython.core.display.HTML object>"
      ]
     },
     "metadata": {},
     "output_type": "display_data"
    },
    {
     "name": "stdout",
     "output_type": "stream",
     "text": [
      "0: left, 1: down, 2: right, 3: up = 1\n",
      "Iter: 6\n",
      "======Direction: down======\n"
     ]
    },
    {
     "data": {
      "text/html": [
       "<h1>Score: 8</h1><table style=\"border: 5px solid black;\"><tr><td style=\"border:3px solid black; text-align:center;\"\n",
       "         width=\"40\" height=\"40\"></td><td style=\"border:3px solid black; text-align:center;\"\n",
       "         width=\"40\" height=\"40\"></td><td style=\"border:3px solid black; text-align:center;\"\n",
       "         width=\"40\" height=\"40\"></td><td style=\"border:3px solid black; text-align:center;\"\n",
       "         width=\"40\" height=\"40\"></td></tr><tr><td style=\"border:3px solid black; text-align:center;\"\n",
       "         width=\"40\" height=\"40\">8</td><td style=\"border:3px solid black; text-align:center;\"\n",
       "         width=\"40\" height=\"40\"></td><td style=\"border:3px solid black; text-align:center;\"\n",
       "         width=\"40\" height=\"40\"></td><td style=\"border:3px solid black; text-align:center;\"\n",
       "         width=\"40\" height=\"40\"></td></tr><tr><td style=\"border:3px solid black; text-align:center;\"\n",
       "         width=\"40\" height=\"40\">2</td><td style=\"border:3px solid black; text-align:center;\"\n",
       "         width=\"40\" height=\"40\"></td><td style=\"border:3px solid black; text-align:center;\"\n",
       "         width=\"40\" height=\"40\">2</td><td style=\"border:3px solid black; text-align:center;\"\n",
       "         width=\"40\" height=\"40\"></td></tr><tr><td style=\"border:3px solid black; text-align:center;\"\n",
       "         width=\"40\" height=\"40\">8</td><td style=\"border:3px solid black; text-align:center;\"\n",
       "         width=\"40\" height=\"40\">4</td><td style=\"border:3px solid black; text-align:center;\"\n",
       "         width=\"40\" height=\"40\"></td><td style=\"border:3px solid black; text-align:center;\"\n",
       "         width=\"40\" height=\"40\"></td></tr></table>"
      ],
      "text/plain": [
       "<IPython.core.display.HTML object>"
      ]
     },
     "metadata": {},
     "output_type": "display_data"
    },
    {
     "name": "stdout",
     "output_type": "stream",
     "text": [
      "0: left, 1: down, 2: right, 3: up = 0\n",
      "Iter: 7\n",
      "======Direction: left======\n"
     ]
    },
    {
     "data": {
      "text/html": [
       "<h1>Score: 8</h1><table style=\"border: 5px solid black;\"><tr><td style=\"border:3px solid black; text-align:center;\"\n",
       "         width=\"40\" height=\"40\"></td><td style=\"border:3px solid black; text-align:center;\"\n",
       "         width=\"40\" height=\"40\"></td><td style=\"border:3px solid black; text-align:center;\"\n",
       "         width=\"40\" height=\"40\"></td><td style=\"border:3px solid black; text-align:center;\"\n",
       "         width=\"40\" height=\"40\"></td></tr><tr><td style=\"border:3px solid black; text-align:center;\"\n",
       "         width=\"40\" height=\"40\">8</td><td style=\"border:3px solid black; text-align:center;\"\n",
       "         width=\"40\" height=\"40\"></td><td style=\"border:3px solid black; text-align:center;\"\n",
       "         width=\"40\" height=\"40\">2</td><td style=\"border:3px solid black; text-align:center;\"\n",
       "         width=\"40\" height=\"40\"></td></tr><tr><td style=\"border:3px solid black; text-align:center;\"\n",
       "         width=\"40\" height=\"40\">4</td><td style=\"border:3px solid black; text-align:center;\"\n",
       "         width=\"40\" height=\"40\"></td><td style=\"border:3px solid black; text-align:center;\"\n",
       "         width=\"40\" height=\"40\"></td><td style=\"border:3px solid black; text-align:center;\"\n",
       "         width=\"40\" height=\"40\"></td></tr><tr><td style=\"border:3px solid black; text-align:center;\"\n",
       "         width=\"40\" height=\"40\">8</td><td style=\"border:3px solid black; text-align:center;\"\n",
       "         width=\"40\" height=\"40\">4</td><td style=\"border:3px solid black; text-align:center;\"\n",
       "         width=\"40\" height=\"40\"></td><td style=\"border:3px solid black; text-align:center;\"\n",
       "         width=\"40\" height=\"40\"></td></tr></table>"
      ],
      "text/plain": [
       "<IPython.core.display.HTML object>"
      ]
     },
     "metadata": {},
     "output_type": "display_data"
    },
    {
     "name": "stdout",
     "output_type": "stream",
     "text": [
      "0: left, 1: down, 2: right, 3: up = 1\n",
      "Iter: 8\n",
      "======Direction: down======\n"
     ]
    },
    {
     "data": {
      "text/html": [
       "<h1>Score: 8</h1><table style=\"border: 5px solid black;\"><tr><td style=\"border:3px solid black; text-align:center;\"\n",
       "         width=\"40\" height=\"40\"></td><td style=\"border:3px solid black; text-align:center;\"\n",
       "         width=\"40\" height=\"40\"></td><td style=\"border:3px solid black; text-align:center;\"\n",
       "         width=\"40\" height=\"40\"></td><td style=\"border:3px solid black; text-align:center;\"\n",
       "         width=\"40\" height=\"40\">4</td></tr><tr><td style=\"border:3px solid black; text-align:center;\"\n",
       "         width=\"40\" height=\"40\">8</td><td style=\"border:3px solid black; text-align:center;\"\n",
       "         width=\"40\" height=\"40\"></td><td style=\"border:3px solid black; text-align:center;\"\n",
       "         width=\"40\" height=\"40\"></td><td style=\"border:3px solid black; text-align:center;\"\n",
       "         width=\"40\" height=\"40\"></td></tr><tr><td style=\"border:3px solid black; text-align:center;\"\n",
       "         width=\"40\" height=\"40\">4</td><td style=\"border:3px solid black; text-align:center;\"\n",
       "         width=\"40\" height=\"40\"></td><td style=\"border:3px solid black; text-align:center;\"\n",
       "         width=\"40\" height=\"40\"></td><td style=\"border:3px solid black; text-align:center;\"\n",
       "         width=\"40\" height=\"40\"></td></tr><tr><td style=\"border:3px solid black; text-align:center;\"\n",
       "         width=\"40\" height=\"40\">8</td><td style=\"border:3px solid black; text-align:center;\"\n",
       "         width=\"40\" height=\"40\">4</td><td style=\"border:3px solid black; text-align:center;\"\n",
       "         width=\"40\" height=\"40\">2</td><td style=\"border:3px solid black; text-align:center;\"\n",
       "         width=\"40\" height=\"40\"></td></tr></table>"
      ],
      "text/plain": [
       "<IPython.core.display.HTML object>"
      ]
     },
     "metadata": {},
     "output_type": "display_data"
    },
    {
     "name": "stdout",
     "output_type": "stream",
     "text": [
      "0: left, 1: down, 2: right, 3: up = 1\n",
      "Iter: 9\n",
      "======Direction: down======\n"
     ]
    },
    {
     "data": {
      "text/html": [
       "<h1>Score: 8</h1><table style=\"border: 5px solid black;\"><tr><td style=\"border:3px solid black; text-align:center;\"\n",
       "         width=\"40\" height=\"40\"></td><td style=\"border:3px solid black; text-align:center;\"\n",
       "         width=\"40\" height=\"40\"></td><td style=\"border:3px solid black; text-align:center;\"\n",
       "         width=\"40\" height=\"40\"></td><td style=\"border:3px solid black; text-align:center;\"\n",
       "         width=\"40\" height=\"40\">2</td></tr><tr><td style=\"border:3px solid black; text-align:center;\"\n",
       "         width=\"40\" height=\"40\">8</td><td style=\"border:3px solid black; text-align:center;\"\n",
       "         width=\"40\" height=\"40\"></td><td style=\"border:3px solid black; text-align:center;\"\n",
       "         width=\"40\" height=\"40\"></td><td style=\"border:3px solid black; text-align:center;\"\n",
       "         width=\"40\" height=\"40\"></td></tr><tr><td style=\"border:3px solid black; text-align:center;\"\n",
       "         width=\"40\" height=\"40\">4</td><td style=\"border:3px solid black; text-align:center;\"\n",
       "         width=\"40\" height=\"40\"></td><td style=\"border:3px solid black; text-align:center;\"\n",
       "         width=\"40\" height=\"40\"></td><td style=\"border:3px solid black; text-align:center;\"\n",
       "         width=\"40\" height=\"40\"></td></tr><tr><td style=\"border:3px solid black; text-align:center;\"\n",
       "         width=\"40\" height=\"40\">8</td><td style=\"border:3px solid black; text-align:center;\"\n",
       "         width=\"40\" height=\"40\">4</td><td style=\"border:3px solid black; text-align:center;\"\n",
       "         width=\"40\" height=\"40\">2</td><td style=\"border:3px solid black; text-align:center;\"\n",
       "         width=\"40\" height=\"40\">4</td></tr></table>"
      ],
      "text/plain": [
       "<IPython.core.display.HTML object>"
      ]
     },
     "metadata": {},
     "output_type": "display_data"
    },
    {
     "name": "stdout",
     "output_type": "stream",
     "text": [
      "0: left, 1: down, 2: right, 3: up = 1\n",
      "Iter: 10\n",
      "======Direction: down======\n"
     ]
    },
    {
     "data": {
      "text/html": [
       "<h1>Score: 8</h1><table style=\"border: 5px solid black;\"><tr><td style=\"border:3px solid black; text-align:center;\"\n",
       "         width=\"40\" height=\"40\"></td><td style=\"border:3px solid black; text-align:center;\"\n",
       "         width=\"40\" height=\"40\"></td><td style=\"border:3px solid black; text-align:center;\"\n",
       "         width=\"40\" height=\"40\"></td><td style=\"border:3px solid black; text-align:center;\"\n",
       "         width=\"40\" height=\"40\"></td></tr><tr><td style=\"border:3px solid black; text-align:center;\"\n",
       "         width=\"40\" height=\"40\">8</td><td style=\"border:3px solid black; text-align:center;\"\n",
       "         width=\"40\" height=\"40\"></td><td style=\"border:3px solid black; text-align:center;\"\n",
       "         width=\"40\" height=\"40\"></td><td style=\"border:3px solid black; text-align:center;\"\n",
       "         width=\"40\" height=\"40\">2</td></tr><tr><td style=\"border:3px solid black; text-align:center;\"\n",
       "         width=\"40\" height=\"40\">4</td><td style=\"border:3px solid black; text-align:center;\"\n",
       "         width=\"40\" height=\"40\"></td><td style=\"border:3px solid black; text-align:center;\"\n",
       "         width=\"40\" height=\"40\"></td><td style=\"border:3px solid black; text-align:center;\"\n",
       "         width=\"40\" height=\"40\">2</td></tr><tr><td style=\"border:3px solid black; text-align:center;\"\n",
       "         width=\"40\" height=\"40\">8</td><td style=\"border:3px solid black; text-align:center;\"\n",
       "         width=\"40\" height=\"40\">4</td><td style=\"border:3px solid black; text-align:center;\"\n",
       "         width=\"40\" height=\"40\">2</td><td style=\"border:3px solid black; text-align:center;\"\n",
       "         width=\"40\" height=\"40\">4</td></tr></table>"
      ],
      "text/plain": [
       "<IPython.core.display.HTML object>"
      ]
     },
     "metadata": {},
     "output_type": "display_data"
    },
    {
     "name": "stdout",
     "output_type": "stream",
     "text": [
      "0: left, 1: down, 2: right, 3: up = 1\n",
      "Iter: 11\n",
      "======Direction: down======\n"
     ]
    },
    {
     "data": {
      "text/html": [
       "<h1>Score: 8</h1><table style=\"border: 5px solid black;\"><tr><td style=\"border:3px solid black; text-align:center;\"\n",
       "         width=\"40\" height=\"40\"></td><td style=\"border:3px solid black; text-align:center;\"\n",
       "         width=\"40\" height=\"40\">4</td><td style=\"border:3px solid black; text-align:center;\"\n",
       "         width=\"40\" height=\"40\"></td><td style=\"border:3px solid black; text-align:center;\"\n",
       "         width=\"40\" height=\"40\"></td></tr><tr><td style=\"border:3px solid black; text-align:center;\"\n",
       "         width=\"40\" height=\"40\">8</td><td style=\"border:3px solid black; text-align:center;\"\n",
       "         width=\"40\" height=\"40\"></td><td style=\"border:3px solid black; text-align:center;\"\n",
       "         width=\"40\" height=\"40\"></td><td style=\"border:3px solid black; text-align:center;\"\n",
       "         width=\"40\" height=\"40\"></td></tr><tr><td style=\"border:3px solid black; text-align:center;\"\n",
       "         width=\"40\" height=\"40\">4</td><td style=\"border:3px solid black; text-align:center;\"\n",
       "         width=\"40\" height=\"40\"></td><td style=\"border:3px solid black; text-align:center;\"\n",
       "         width=\"40\" height=\"40\"></td><td style=\"border:3px solid black; text-align:center;\"\n",
       "         width=\"40\" height=\"40\">4</td></tr><tr><td style=\"border:3px solid black; text-align:center;\"\n",
       "         width=\"40\" height=\"40\">8</td><td style=\"border:3px solid black; text-align:center;\"\n",
       "         width=\"40\" height=\"40\">4</td><td style=\"border:3px solid black; text-align:center;\"\n",
       "         width=\"40\" height=\"40\">2</td><td style=\"border:3px solid black; text-align:center;\"\n",
       "         width=\"40\" height=\"40\">4</td></tr></table>"
      ],
      "text/plain": [
       "<IPython.core.display.HTML object>"
      ]
     },
     "metadata": {},
     "output_type": "display_data"
    },
    {
     "name": "stdout",
     "output_type": "stream",
     "text": [
      "0: left, 1: down, 2: right, 3: up = 1\n",
      "Iter: 12\n",
      "======Direction: down======\n"
     ]
    },
    {
     "data": {
      "text/html": [
       "<h1>Score: 8</h1><table style=\"border: 5px solid black;\"><tr><td style=\"border:3px solid black; text-align:center;\"\n",
       "         width=\"40\" height=\"40\"></td><td style=\"border:3px solid black; text-align:center;\"\n",
       "         width=\"40\" height=\"40\"></td><td style=\"border:3px solid black; text-align:center;\"\n",
       "         width=\"40\" height=\"40\"></td><td style=\"border:3px solid black; text-align:center;\"\n",
       "         width=\"40\" height=\"40\"></td></tr><tr><td style=\"border:3px solid black; text-align:center;\"\n",
       "         width=\"40\" height=\"40\">8</td><td style=\"border:3px solid black; text-align:center;\"\n",
       "         width=\"40\" height=\"40\"></td><td style=\"border:3px solid black; text-align:center;\"\n",
       "         width=\"40\" height=\"40\">2</td><td style=\"border:3px solid black; text-align:center;\"\n",
       "         width=\"40\" height=\"40\"></td></tr><tr><td style=\"border:3px solid black; text-align:center;\"\n",
       "         width=\"40\" height=\"40\">4</td><td style=\"border:3px solid black; text-align:center;\"\n",
       "         width=\"40\" height=\"40\"></td><td style=\"border:3px solid black; text-align:center;\"\n",
       "         width=\"40\" height=\"40\"></td><td style=\"border:3px solid black; text-align:center;\"\n",
       "         width=\"40\" height=\"40\"></td></tr><tr><td style=\"border:3px solid black; text-align:center;\"\n",
       "         width=\"40\" height=\"40\">8</td><td style=\"border:3px solid black; text-align:center;\"\n",
       "         width=\"40\" height=\"40\">8</td><td style=\"border:3px solid black; text-align:center;\"\n",
       "         width=\"40\" height=\"40\">2</td><td style=\"border:3px solid black; text-align:center;\"\n",
       "         width=\"40\" height=\"40\">8</td></tr></table>"
      ],
      "text/plain": [
       "<IPython.core.display.HTML object>"
      ]
     },
     "metadata": {},
     "output_type": "display_data"
    },
    {
     "name": "stdout",
     "output_type": "stream",
     "text": [
      "0: left, 1: down, 2: right, 3: up = 1\n",
      "Iter: 13\n",
      "======Direction: down======\n"
     ]
    },
    {
     "data": {
      "text/html": [
       "<h1>Score: 8</h1><table style=\"border: 5px solid black;\"><tr><td style=\"border:3px solid black; text-align:center;\"\n",
       "         width=\"40\" height=\"40\"></td><td style=\"border:3px solid black; text-align:center;\"\n",
       "         width=\"40\" height=\"40\"></td><td style=\"border:3px solid black; text-align:center;\"\n",
       "         width=\"40\" height=\"40\"></td><td style=\"border:3px solid black; text-align:center;\"\n",
       "         width=\"40\" height=\"40\"></td></tr><tr><td style=\"border:3px solid black; text-align:center;\"\n",
       "         width=\"40\" height=\"40\">8</td><td style=\"border:3px solid black; text-align:center;\"\n",
       "         width=\"40\" height=\"40\"></td><td style=\"border:3px solid black; text-align:center;\"\n",
       "         width=\"40\" height=\"40\"></td><td style=\"border:3px solid black; text-align:center;\"\n",
       "         width=\"40\" height=\"40\"></td></tr><tr><td style=\"border:3px solid black; text-align:center;\"\n",
       "         width=\"40\" height=\"40\">4</td><td style=\"border:3px solid black; text-align:center;\"\n",
       "         width=\"40\" height=\"40\"></td><td style=\"border:3px solid black; text-align:center;\"\n",
       "         width=\"40\" height=\"40\">2</td><td style=\"border:3px solid black; text-align:center;\"\n",
       "         width=\"40\" height=\"40\"></td></tr><tr><td style=\"border:3px solid black; text-align:center;\"\n",
       "         width=\"40\" height=\"40\">8</td><td style=\"border:3px solid black; text-align:center;\"\n",
       "         width=\"40\" height=\"40\">8</td><td style=\"border:3px solid black; text-align:center;\"\n",
       "         width=\"40\" height=\"40\">4</td><td style=\"border:3px solid black; text-align:center;\"\n",
       "         width=\"40\" height=\"40\">8</td></tr></table>"
      ],
      "text/plain": [
       "<IPython.core.display.HTML object>"
      ]
     },
     "metadata": {},
     "output_type": "display_data"
    },
    {
     "name": "stdout",
     "output_type": "stream",
     "text": [
      "0: left, 1: down, 2: right, 3: up = 0\n",
      "Iter: 14\n",
      "======Direction: left======\n"
     ]
    },
    {
     "data": {
      "text/html": [
       "<h1>Score: 16</h1><table style=\"border: 5px solid black;\"><tr><td style=\"border:3px solid black; text-align:center;\"\n",
       "         width=\"40\" height=\"40\"></td><td style=\"border:3px solid black; text-align:center;\"\n",
       "         width=\"40\" height=\"40\"></td><td style=\"border:3px solid black; text-align:center;\"\n",
       "         width=\"40\" height=\"40\"></td><td style=\"border:3px solid black; text-align:center;\"\n",
       "         width=\"40\" height=\"40\"></td></tr><tr><td style=\"border:3px solid black; text-align:center;\"\n",
       "         width=\"40\" height=\"40\">8</td><td style=\"border:3px solid black; text-align:center;\"\n",
       "         width=\"40\" height=\"40\">2</td><td style=\"border:3px solid black; text-align:center;\"\n",
       "         width=\"40\" height=\"40\"></td><td style=\"border:3px solid black; text-align:center;\"\n",
       "         width=\"40\" height=\"40\"></td></tr><tr><td style=\"border:3px solid black; text-align:center;\"\n",
       "         width=\"40\" height=\"40\">4</td><td style=\"border:3px solid black; text-align:center;\"\n",
       "         width=\"40\" height=\"40\">2</td><td style=\"border:3px solid black; text-align:center;\"\n",
       "         width=\"40\" height=\"40\"></td><td style=\"border:3px solid black; text-align:center;\"\n",
       "         width=\"40\" height=\"40\"></td></tr><tr><td style=\"border:3px solid black; text-align:center;\"\n",
       "         width=\"40\" height=\"40\">16</td><td style=\"border:3px solid black; text-align:center;\"\n",
       "         width=\"40\" height=\"40\">4</td><td style=\"border:3px solid black; text-align:center;\"\n",
       "         width=\"40\" height=\"40\">8</td><td style=\"border:3px solid black; text-align:center;\"\n",
       "         width=\"40\" height=\"40\"></td></tr></table>"
      ],
      "text/plain": [
       "<IPython.core.display.HTML object>"
      ]
     },
     "metadata": {},
     "output_type": "display_data"
    },
    {
     "name": "stdout",
     "output_type": "stream",
     "text": [
      "0: left, 1: down, 2: right, 3: up = 1\n",
      "Iter: 15\n",
      "======Direction: down======\n"
     ]
    },
    {
     "data": {
      "text/html": [
       "<h1>Score: 16</h1><table style=\"border: 5px solid black;\"><tr><td style=\"border:3px solid black; text-align:center;\"\n",
       "         width=\"40\" height=\"40\"></td><td style=\"border:3px solid black; text-align:center;\"\n",
       "         width=\"40\" height=\"40\"></td><td style=\"border:3px solid black; text-align:center;\"\n",
       "         width=\"40\" height=\"40\"></td><td style=\"border:3px solid black; text-align:center;\"\n",
       "         width=\"40\" height=\"40\"></td></tr><tr><td style=\"border:3px solid black; text-align:center;\"\n",
       "         width=\"40\" height=\"40\">8</td><td style=\"border:3px solid black; text-align:center;\"\n",
       "         width=\"40\" height=\"40\"></td><td style=\"border:3px solid black; text-align:center;\"\n",
       "         width=\"40\" height=\"40\">4</td><td style=\"border:3px solid black; text-align:center;\"\n",
       "         width=\"40\" height=\"40\"></td></tr><tr><td style=\"border:3px solid black; text-align:center;\"\n",
       "         width=\"40\" height=\"40\">4</td><td style=\"border:3px solid black; text-align:center;\"\n",
       "         width=\"40\" height=\"40\">4</td><td style=\"border:3px solid black; text-align:center;\"\n",
       "         width=\"40\" height=\"40\"></td><td style=\"border:3px solid black; text-align:center;\"\n",
       "         width=\"40\" height=\"40\"></td></tr><tr><td style=\"border:3px solid black; text-align:center;\"\n",
       "         width=\"40\" height=\"40\">16</td><td style=\"border:3px solid black; text-align:center;\"\n",
       "         width=\"40\" height=\"40\">4</td><td style=\"border:3px solid black; text-align:center;\"\n",
       "         width=\"40\" height=\"40\">8</td><td style=\"border:3px solid black; text-align:center;\"\n",
       "         width=\"40\" height=\"40\"></td></tr></table>"
      ],
      "text/plain": [
       "<IPython.core.display.HTML object>"
      ]
     },
     "metadata": {},
     "output_type": "display_data"
    },
    {
     "name": "stdout",
     "output_type": "stream",
     "text": [
      "0: left, 1: down, 2: right, 3: up = \n"
     ]
    },
    {
     "ename": "ValueError",
     "evalue": "invalid literal for int() with base 10: ''",
     "output_type": "error",
     "traceback": [
      "\u001b[0;31m---------------------------------------------------------------------------\u001b[0m",
      "\u001b[0;31mValueError\u001b[0m                                Traceback (most recent call last)",
      "\u001b[0;32m<ipython-input-4-481699ca022b>\u001b[0m in \u001b[0;36m<module>\u001b[0;34m()\u001b[0m\n\u001b[1;32m      1\u001b[0m \u001b[0mgame\u001b[0m \u001b[0;34m=\u001b[0m \u001b[0mGame\u001b[0m\u001b[0;34m(\u001b[0m\u001b[0;36m4\u001b[0m\u001b[0;34m,\u001b[0m \u001b[0mrandom\u001b[0m\u001b[0;34m=\u001b[0m\u001b[0;32mFalse\u001b[0m\u001b[0;34m)\u001b[0m\u001b[0;34m\u001b[0m\u001b[0m\n\u001b[1;32m      2\u001b[0m \u001b[0magent\u001b[0m \u001b[0;34m=\u001b[0m \u001b[0mAgent\u001b[0m\u001b[0;34m(\u001b[0m\u001b[0mgame\u001b[0m\u001b[0;34m,\u001b[0m \u001b[0mdisplay\u001b[0m\u001b[0;34m=\u001b[0m\u001b[0mdisplay2\u001b[0m\u001b[0;34m)\u001b[0m\u001b[0;34m\u001b[0m\u001b[0m\n\u001b[0;32m----> 3\u001b[0;31m \u001b[0magent\u001b[0m\u001b[0;34m.\u001b[0m\u001b[0mplay\u001b[0m\u001b[0;34m(\u001b[0m\u001b[0mverbose\u001b[0m\u001b[0;34m=\u001b[0m\u001b[0;32mTrue\u001b[0m\u001b[0;34m)\u001b[0m\u001b[0;34m\u001b[0m\u001b[0m\n\u001b[0m",
      "\u001b[0;32m~/gitRepo/2048-api/game2048/agents.py\u001b[0m in \u001b[0;36mplay\u001b[0;34m(self, max_iter, verbose)\u001b[0m\n\u001b[1;32m     12\u001b[0m         \u001b[0mn_iter\u001b[0m \u001b[0;34m=\u001b[0m \u001b[0;36m0\u001b[0m\u001b[0;34m\u001b[0m\u001b[0m\n\u001b[1;32m     13\u001b[0m         \u001b[0;32mwhile\u001b[0m \u001b[0;34m(\u001b[0m\u001b[0mn_iter\u001b[0m \u001b[0;34m<\u001b[0m \u001b[0mmax_iter\u001b[0m\u001b[0;34m)\u001b[0m \u001b[0;32mand\u001b[0m \u001b[0;34m(\u001b[0m\u001b[0;32mnot\u001b[0m \u001b[0mself\u001b[0m\u001b[0;34m.\u001b[0m\u001b[0mgame\u001b[0m\u001b[0;34m.\u001b[0m\u001b[0mend\u001b[0m\u001b[0;34m)\u001b[0m\u001b[0;34m:\u001b[0m\u001b[0;34m\u001b[0m\u001b[0m\n\u001b[0;32m---> 14\u001b[0;31m             \u001b[0mdirection\u001b[0m \u001b[0;34m=\u001b[0m \u001b[0mself\u001b[0m\u001b[0;34m.\u001b[0m\u001b[0mstep\u001b[0m\u001b[0;34m(\u001b[0m\u001b[0;34m)\u001b[0m\u001b[0;34m\u001b[0m\u001b[0m\n\u001b[0m\u001b[1;32m     15\u001b[0m             \u001b[0mself\u001b[0m\u001b[0;34m.\u001b[0m\u001b[0mgame\u001b[0m\u001b[0;34m.\u001b[0m\u001b[0mmove\u001b[0m\u001b[0;34m(\u001b[0m\u001b[0mdirection\u001b[0m\u001b[0;34m)\u001b[0m\u001b[0;34m\u001b[0m\u001b[0m\n\u001b[1;32m     16\u001b[0m             \u001b[0mn_iter\u001b[0m \u001b[0;34m+=\u001b[0m \u001b[0;36m1\u001b[0m\u001b[0;34m\u001b[0m\u001b[0m\n",
      "\u001b[0;32m~/gitRepo/2048-api/game2048/agents.py\u001b[0m in \u001b[0;36mstep\u001b[0;34m(self)\u001b[0m\n\u001b[1;32m     23\u001b[0m \u001b[0;34m\u001b[0m\u001b[0m\n\u001b[1;32m     24\u001b[0m     \u001b[0;32mdef\u001b[0m \u001b[0mstep\u001b[0m\u001b[0;34m(\u001b[0m\u001b[0mself\u001b[0m\u001b[0;34m)\u001b[0m\u001b[0;34m:\u001b[0m\u001b[0;34m\u001b[0m\u001b[0m\n\u001b[0;32m---> 25\u001b[0;31m         \u001b[0mdirection\u001b[0m \u001b[0;34m=\u001b[0m \u001b[0mint\u001b[0m\u001b[0;34m(\u001b[0m\u001b[0minput\u001b[0m\u001b[0;34m(\u001b[0m\u001b[0;34m\"0: left, 1: down, 2: right, 3: up = \"\u001b[0m\u001b[0;34m)\u001b[0m\u001b[0;34m)\u001b[0m \u001b[0;34m%\u001b[0m \u001b[0;36m4\u001b[0m\u001b[0;34m\u001b[0m\u001b[0m\n\u001b[0m\u001b[1;32m     26\u001b[0m         \u001b[0;32mreturn\u001b[0m \u001b[0mdirection\u001b[0m\u001b[0;34m\u001b[0m\u001b[0m\n\u001b[1;32m     27\u001b[0m \u001b[0;34m\u001b[0m\u001b[0m\n",
      "\u001b[0;31mValueError\u001b[0m: invalid literal for int() with base 10: ''"
     ]
    }
   ],
   "source": [
    "game = Game(4, random=False)\n",
    "agent = Agent(game, display=display2)\n",
    "agent.play(verbose=True)"
   ]
  },
  {
   "cell_type": "code",
   "execution_count": 8,
   "metadata": {},
   "outputs": [
    {
     "data": {
      "text/html": [
       "<h1>Score: 4</h1><table style=\"border: 5px solid black;\"><tr><td style=\"border:3px solid black; text-align:center;\"\n",
       "         width=\"40\" height=\"40\">4</td><td style=\"border:3px solid black; text-align:center;\"\n",
       "         width=\"40\" height=\"40\"></td><td style=\"border:3px solid black; text-align:center;\"\n",
       "         width=\"40\" height=\"40\"></td><td style=\"border:3px solid black; text-align:center;\"\n",
       "         width=\"40\" height=\"40\"></td></tr><tr><td style=\"border:3px solid black; text-align:center;\"\n",
       "         width=\"40\" height=\"40\"></td><td style=\"border:3px solid black; text-align:center;\"\n",
       "         width=\"40\" height=\"40\"></td><td style=\"border:3px solid black; text-align:center;\"\n",
       "         width=\"40\" height=\"40\"></td><td style=\"border:3px solid black; text-align:center;\"\n",
       "         width=\"40\" height=\"40\"></td></tr><tr><td style=\"border:3px solid black; text-align:center;\"\n",
       "         width=\"40\" height=\"40\"></td><td style=\"border:3px solid black; text-align:center;\"\n",
       "         width=\"40\" height=\"40\"></td><td style=\"border:3px solid black; text-align:center;\"\n",
       "         width=\"40\" height=\"40\">2</td><td style=\"border:3px solid black; text-align:center;\"\n",
       "         width=\"40\" height=\"40\"></td></tr><tr><td style=\"border:3px solid black; text-align:center;\"\n",
       "         width=\"40\" height=\"40\"></td><td style=\"border:3px solid black; text-align:center;\"\n",
       "         width=\"40\" height=\"40\"></td><td style=\"border:3px solid black; text-align:center;\"\n",
       "         width=\"40\" height=\"40\"></td><td style=\"border:3px solid black; text-align:center;\"\n",
       "         width=\"40\" height=\"40\"></td></tr></table>"
      ],
      "text/plain": [
       "<IPython.core.display.HTML object>"
      ]
     },
     "metadata": {},
     "output_type": "display_data"
    },
    {
     "name": "stdout",
     "output_type": "stream",
     "text": [
      "Loaded expectmax lib for 2048: /home/leonf/gitRepo/2048-api/game2048/expectimax/bin/2048.so\n",
      "Loaded expectmax lib for 2048: /home/leonf/gitRepo/2048-api/game2048/expectimax/bin/2048.dll\n",
      "Loaded expectmax lib for 2048: /home/leonf/gitRepo/2048-api/game2048/expectimax/bin/2048.dylib\n",
      "Couldn't find 2048 library bin/2048.{so,dll,dylib}! Make sure to build it first.\n"
     ]
    },
    {
     "ename": "NameError",
     "evalue": "name 'ailib' is not defined",
     "output_type": "error",
     "traceback": [
      "\u001b[0;31m---------------------------------------------------------------------------\u001b[0m",
      "\u001b[0;31mNameError\u001b[0m                                 Traceback (most recent call last)",
      "\u001b[0;32m<timed exec>\u001b[0m in \u001b[0;36m<module>\u001b[0;34m()\u001b[0m\n",
      "\u001b[0;32m~/gitRepo/2048-api/game2048/agents.py\u001b[0m in \u001b[0;36m__init__\u001b[0;34m(self, game, display)\u001b[0m\n\u001b[1;32m     41\u001b[0m                 \"`%s` can only work with game of `size` 4.\" % self.__class__.__name__)\n\u001b[1;32m     42\u001b[0m         \u001b[0msuper\u001b[0m\u001b[0;34m(\u001b[0m\u001b[0;34m)\u001b[0m\u001b[0;34m.\u001b[0m\u001b[0m__init__\u001b[0m\u001b[0;34m(\u001b[0m\u001b[0mgame\u001b[0m\u001b[0;34m,\u001b[0m \u001b[0mdisplay\u001b[0m\u001b[0;34m)\u001b[0m\u001b[0;34m\u001b[0m\u001b[0m\n\u001b[0;32m---> 43\u001b[0;31m         \u001b[0;32mfrom\u001b[0m \u001b[0;34m.\u001b[0m\u001b[0mexpectimax\u001b[0m \u001b[0;32mimport\u001b[0m \u001b[0mboard_to_move\u001b[0m\u001b[0;34m\u001b[0m\u001b[0m\n\u001b[0m\u001b[1;32m     44\u001b[0m         \u001b[0mself\u001b[0m\u001b[0;34m.\u001b[0m\u001b[0msearch_func\u001b[0m \u001b[0;34m=\u001b[0m \u001b[0mboard_to_move\u001b[0m\u001b[0;34m\u001b[0m\u001b[0m\n\u001b[1;32m     45\u001b[0m \u001b[0;34m\u001b[0m\u001b[0m\n",
      "\u001b[0;32m~/gitRepo/2048-api/game2048/expectimax/__init__.py\u001b[0m in \u001b[0;36m<module>\u001b[0;34m()\u001b[0m\n\u001b[0;32m----> 1\u001b[0;31m \u001b[0;32mfrom\u001b[0m \u001b[0;34m.\u001b[0m\u001b[0m_ext\u001b[0m \u001b[0;32mimport\u001b[0m \u001b[0mm_to_move\u001b[0m\u001b[0;34m,\u001b[0m \u001b[0mboard_to_move\u001b[0m\u001b[0;34m,\u001b[0m \u001b[0mfind_best_move\u001b[0m\u001b[0;34m\u001b[0m\u001b[0m\n\u001b[0m",
      "\u001b[0;32m~/gitRepo/2048-api/game2048/expectimax/_ext.py\u001b[0m in \u001b[0;36m<module>\u001b[0;34m()\u001b[0m\n\u001b[1;32m     26\u001b[0m     \u001b[0;31m# exit()\u001b[0m\u001b[0;34m\u001b[0m\u001b[0;34m\u001b[0m\u001b[0m\n\u001b[1;32m     27\u001b[0m \u001b[0;34m\u001b[0m\u001b[0m\n\u001b[0;32m---> 28\u001b[0;31m \u001b[0mailib\u001b[0m\u001b[0;34m.\u001b[0m\u001b[0minit_tables\u001b[0m\u001b[0;34m(\u001b[0m\u001b[0;34m)\u001b[0m\u001b[0;34m\u001b[0m\u001b[0m\n\u001b[0m\u001b[1;32m     29\u001b[0m \u001b[0;34m\u001b[0m\u001b[0m\n\u001b[1;32m     30\u001b[0m \u001b[0mailib\u001b[0m\u001b[0;34m.\u001b[0m\u001b[0mfind_best_move\u001b[0m\u001b[0;34m.\u001b[0m\u001b[0margtypes\u001b[0m \u001b[0;34m=\u001b[0m \u001b[0;34m[\u001b[0m\u001b[0mctypes\u001b[0m\u001b[0;34m.\u001b[0m\u001b[0mc_uint64\u001b[0m\u001b[0;34m]\u001b[0m\u001b[0;34m\u001b[0m\u001b[0m\n",
      "\u001b[0;31mNameError\u001b[0m: name 'ailib' is not defined"
     ]
    }
   ],
   "source": [
    "%%time\n",
    "game = Game(4, score_to_win=2048, random=False)\n",
    "display2.display(game)\n",
    "agent = ExpectiMaxAgent(game, display=display2)\n",
    "agent.play(verbose=True)"
   ]
  },
  {
   "cell_type": "code",
   "execution_count": 11,
   "metadata": {
    "scrolled": true
   },
   "outputs": [
    {
     "data": {
      "text/html": [
       "<h1>Score: 512</h1><table style=\"border: 5px solid black;\"><tr><td style=\"border:3px solid black; text-align:center;\"\n",
       "         width=\"40\" height=\"40\">32</td><td style=\"border:3px solid black; text-align:center;\"\n",
       "         width=\"40\" height=\"40\">256</td><td style=\"border:3px solid black; text-align:center;\"\n",
       "         width=\"40\" height=\"40\">128</td><td style=\"border:3px solid black; text-align:center;\"\n",
       "         width=\"40\" height=\"40\">8</td></tr><tr><td style=\"border:3px solid black; text-align:center;\"\n",
       "         width=\"40\" height=\"40\">32</td><td style=\"border:3px solid black; text-align:center;\"\n",
       "         width=\"40\" height=\"40\">8</td><td style=\"border:3px solid black; text-align:center;\"\n",
       "         width=\"40\" height=\"40\">64</td><td style=\"border:3px solid black; text-align:center;\"\n",
       "         width=\"40\" height=\"40\">8</td></tr><tr><td style=\"border:3px solid black; text-align:center;\"\n",
       "         width=\"40\" height=\"40\">4</td><td style=\"border:3px solid black; text-align:center;\"\n",
       "         width=\"40\" height=\"40\">512</td><td style=\"border:3px solid black; text-align:center;\"\n",
       "         width=\"40\" height=\"40\">512</td><td style=\"border:3px solid black; text-align:center;\"\n",
       "         width=\"40\" height=\"40\">256</td></tr><tr><td style=\"border:3px solid black; text-align:center;\"\n",
       "         width=\"40\" height=\"40\">128</td><td style=\"border:3px solid black; text-align:center;\"\n",
       "         width=\"40\" height=\"40\">4</td><td style=\"border:3px solid black; text-align:center;\"\n",
       "         width=\"40\" height=\"40\">16</td><td style=\"border:3px solid black; text-align:center;\"\n",
       "         width=\"40\" height=\"40\">64</td></tr></table>"
      ],
      "text/plain": [
       "<IPython.core.display.HTML object>"
      ]
     },
     "metadata": {},
     "output_type": "display_data"
    },
    {
     "name": "stdout",
     "output_type": "stream",
     "text": [
      "Loaded expectmax lib for 2048: /home/leonf/gitRepo/2048-api/game2048/expectimax/bin/2048.so\n",
      "Iter: 1\n",
      "======Direction: right======\n"
     ]
    },
    {
     "data": {
      "text/html": [
       "<h1>Score: 1024</h1><table style=\"border: 5px solid black;\"><tr><td style=\"border:3px solid black; text-align:center;\"\n",
       "         width=\"40\" height=\"40\">32</td><td style=\"border:3px solid black; text-align:center;\"\n",
       "         width=\"40\" height=\"40\">256</td><td style=\"border:3px solid black; text-align:center;\"\n",
       "         width=\"40\" height=\"40\">128</td><td style=\"border:3px solid black; text-align:center;\"\n",
       "         width=\"40\" height=\"40\">8</td></tr><tr><td style=\"border:3px solid black; text-align:center;\"\n",
       "         width=\"40\" height=\"40\">32</td><td style=\"border:3px solid black; text-align:center;\"\n",
       "         width=\"40\" height=\"40\">8</td><td style=\"border:3px solid black; text-align:center;\"\n",
       "         width=\"40\" height=\"40\">64</td><td style=\"border:3px solid black; text-align:center;\"\n",
       "         width=\"40\" height=\"40\">8</td></tr><tr><td style=\"border:3px solid black; text-align:center;\"\n",
       "         width=\"40\" height=\"40\">4</td><td style=\"border:3px solid black; text-align:center;\"\n",
       "         width=\"40\" height=\"40\">4</td><td style=\"border:3px solid black; text-align:center;\"\n",
       "         width=\"40\" height=\"40\">1024</td><td style=\"border:3px solid black; text-align:center;\"\n",
       "         width=\"40\" height=\"40\">256</td></tr><tr><td style=\"border:3px solid black; text-align:center;\"\n",
       "         width=\"40\" height=\"40\">128</td><td style=\"border:3px solid black; text-align:center;\"\n",
       "         width=\"40\" height=\"40\">4</td><td style=\"border:3px solid black; text-align:center;\"\n",
       "         width=\"40\" height=\"40\">16</td><td style=\"border:3px solid black; text-align:center;\"\n",
       "         width=\"40\" height=\"40\">64</td></tr></table>"
      ],
      "text/plain": [
       "<IPython.core.display.HTML object>"
      ]
     },
     "metadata": {},
     "output_type": "display_data"
    },
    {
     "name": "stdout",
     "output_type": "stream",
     "text": [
      "Iter: 2\n",
      "======Direction: up======\n"
     ]
    },
    {
     "data": {
      "text/html": [
       "<h1>Score: 1024</h1><table style=\"border: 5px solid black;\"><tr><td style=\"border:3px solid black; text-align:center;\"\n",
       "         width=\"40\" height=\"40\">64</td><td style=\"border:3px solid black; text-align:center;\"\n",
       "         width=\"40\" height=\"40\">256</td><td style=\"border:3px solid black; text-align:center;\"\n",
       "         width=\"40\" height=\"40\">128</td><td style=\"border:3px solid black; text-align:center;\"\n",
       "         width=\"40\" height=\"40\">16</td></tr><tr><td style=\"border:3px solid black; text-align:center;\"\n",
       "         width=\"40\" height=\"40\">4</td><td style=\"border:3px solid black; text-align:center;\"\n",
       "         width=\"40\" height=\"40\">8</td><td style=\"border:3px solid black; text-align:center;\"\n",
       "         width=\"40\" height=\"40\">64</td><td style=\"border:3px solid black; text-align:center;\"\n",
       "         width=\"40\" height=\"40\">256</td></tr><tr><td style=\"border:3px solid black; text-align:center;\"\n",
       "         width=\"40\" height=\"40\">128</td><td style=\"border:3px solid black; text-align:center;\"\n",
       "         width=\"40\" height=\"40\">8</td><td style=\"border:3px solid black; text-align:center;\"\n",
       "         width=\"40\" height=\"40\">1024</td><td style=\"border:3px solid black; text-align:center;\"\n",
       "         width=\"40\" height=\"40\">64</td></tr><tr><td style=\"border:3px solid black; text-align:center;\"\n",
       "         width=\"40\" height=\"40\"></td><td style=\"border:3px solid black; text-align:center;\"\n",
       "         width=\"40\" height=\"40\">4</td><td style=\"border:3px solid black; text-align:center;\"\n",
       "         width=\"40\" height=\"40\">16</td><td style=\"border:3px solid black; text-align:center;\"\n",
       "         width=\"40\" height=\"40\"></td></tr></table>"
      ],
      "text/plain": [
       "<IPython.core.display.HTML object>"
      ]
     },
     "metadata": {},
     "output_type": "display_data"
    },
    {
     "name": "stdout",
     "output_type": "stream",
     "text": [
      "Iter: 3\n",
      "======Direction: left======\n"
     ]
    },
    {
     "data": {
      "text/html": [
       "<h1>Score: 1024</h1><table style=\"border: 5px solid black;\"><tr><td style=\"border:3px solid black; text-align:center;\"\n",
       "         width=\"40\" height=\"40\">64</td><td style=\"border:3px solid black; text-align:center;\"\n",
       "         width=\"40\" height=\"40\">256</td><td style=\"border:3px solid black; text-align:center;\"\n",
       "         width=\"40\" height=\"40\">128</td><td style=\"border:3px solid black; text-align:center;\"\n",
       "         width=\"40\" height=\"40\">16</td></tr><tr><td style=\"border:3px solid black; text-align:center;\"\n",
       "         width=\"40\" height=\"40\">4</td><td style=\"border:3px solid black; text-align:center;\"\n",
       "         width=\"40\" height=\"40\">8</td><td style=\"border:3px solid black; text-align:center;\"\n",
       "         width=\"40\" height=\"40\">64</td><td style=\"border:3px solid black; text-align:center;\"\n",
       "         width=\"40\" height=\"40\">256</td></tr><tr><td style=\"border:3px solid black; text-align:center;\"\n",
       "         width=\"40\" height=\"40\">128</td><td style=\"border:3px solid black; text-align:center;\"\n",
       "         width=\"40\" height=\"40\">8</td><td style=\"border:3px solid black; text-align:center;\"\n",
       "         width=\"40\" height=\"40\">1024</td><td style=\"border:3px solid black; text-align:center;\"\n",
       "         width=\"40\" height=\"40\">64</td></tr><tr><td style=\"border:3px solid black; text-align:center;\"\n",
       "         width=\"40\" height=\"40\">4</td><td style=\"border:3px solid black; text-align:center;\"\n",
       "         width=\"40\" height=\"40\">16</td><td style=\"border:3px solid black; text-align:center;\"\n",
       "         width=\"40\" height=\"40\">2</td><td style=\"border:3px solid black; text-align:center;\"\n",
       "         width=\"40\" height=\"40\"></td></tr></table>"
      ],
      "text/plain": [
       "<IPython.core.display.HTML object>"
      ]
     },
     "metadata": {},
     "output_type": "display_data"
    },
    {
     "name": "stdout",
     "output_type": "stream",
     "text": [
      "Iter: 4\n",
      "======Direction: up======\n"
     ]
    },
    {
     "data": {
      "text/html": [
       "<h1>Score: 1024</h1><table style=\"border: 5px solid black;\"><tr><td style=\"border:3px solid black; text-align:center;\"\n",
       "         width=\"40\" height=\"40\">64</td><td style=\"border:3px solid black; text-align:center;\"\n",
       "         width=\"40\" height=\"40\">256</td><td style=\"border:3px solid black; text-align:center;\"\n",
       "         width=\"40\" height=\"40\">128</td><td style=\"border:3px solid black; text-align:center;\"\n",
       "         width=\"40\" height=\"40\">16</td></tr><tr><td style=\"border:3px solid black; text-align:center;\"\n",
       "         width=\"40\" height=\"40\">4</td><td style=\"border:3px solid black; text-align:center;\"\n",
       "         width=\"40\" height=\"40\">16</td><td style=\"border:3px solid black; text-align:center;\"\n",
       "         width=\"40\" height=\"40\">64</td><td style=\"border:3px solid black; text-align:center;\"\n",
       "         width=\"40\" height=\"40\">256</td></tr><tr><td style=\"border:3px solid black; text-align:center;\"\n",
       "         width=\"40\" height=\"40\">128</td><td style=\"border:3px solid black; text-align:center;\"\n",
       "         width=\"40\" height=\"40\">16</td><td style=\"border:3px solid black; text-align:center;\"\n",
       "         width=\"40\" height=\"40\">1024</td><td style=\"border:3px solid black; text-align:center;\"\n",
       "         width=\"40\" height=\"40\">64</td></tr><tr><td style=\"border:3px solid black; text-align:center;\"\n",
       "         width=\"40\" height=\"40\">4</td><td style=\"border:3px solid black; text-align:center;\"\n",
       "         width=\"40\" height=\"40\">2</td><td style=\"border:3px solid black; text-align:center;\"\n",
       "         width=\"40\" height=\"40\">2</td><td style=\"border:3px solid black; text-align:center;\"\n",
       "         width=\"40\" height=\"40\"></td></tr></table>"
      ],
      "text/plain": [
       "<IPython.core.display.HTML object>"
      ]
     },
     "metadata": {},
     "output_type": "display_data"
    },
    {
     "name": "stdout",
     "output_type": "stream",
     "text": [
      "Iter: 5\n",
      "======Direction: left======\n"
     ]
    },
    {
     "data": {
      "text/html": [
       "<h1>Score: 1024</h1><table style=\"border: 5px solid black;\"><tr><td style=\"border:3px solid black; text-align:center;\"\n",
       "         width=\"40\" height=\"40\">64</td><td style=\"border:3px solid black; text-align:center;\"\n",
       "         width=\"40\" height=\"40\">256</td><td style=\"border:3px solid black; text-align:center;\"\n",
       "         width=\"40\" height=\"40\">128</td><td style=\"border:3px solid black; text-align:center;\"\n",
       "         width=\"40\" height=\"40\">16</td></tr><tr><td style=\"border:3px solid black; text-align:center;\"\n",
       "         width=\"40\" height=\"40\">4</td><td style=\"border:3px solid black; text-align:center;\"\n",
       "         width=\"40\" height=\"40\">16</td><td style=\"border:3px solid black; text-align:center;\"\n",
       "         width=\"40\" height=\"40\">64</td><td style=\"border:3px solid black; text-align:center;\"\n",
       "         width=\"40\" height=\"40\">256</td></tr><tr><td style=\"border:3px solid black; text-align:center;\"\n",
       "         width=\"40\" height=\"40\">128</td><td style=\"border:3px solid black; text-align:center;\"\n",
       "         width=\"40\" height=\"40\">16</td><td style=\"border:3px solid black; text-align:center;\"\n",
       "         width=\"40\" height=\"40\">1024</td><td style=\"border:3px solid black; text-align:center;\"\n",
       "         width=\"40\" height=\"40\">64</td></tr><tr><td style=\"border:3px solid black; text-align:center;\"\n",
       "         width=\"40\" height=\"40\">4</td><td style=\"border:3px solid black; text-align:center;\"\n",
       "         width=\"40\" height=\"40\">4</td><td style=\"border:3px solid black; text-align:center;\"\n",
       "         width=\"40\" height=\"40\"></td><td style=\"border:3px solid black; text-align:center;\"\n",
       "         width=\"40\" height=\"40\">2</td></tr></table>"
      ],
      "text/plain": [
       "<IPython.core.display.HTML object>"
      ]
     },
     "metadata": {},
     "output_type": "display_data"
    },
    {
     "name": "stdout",
     "output_type": "stream",
     "text": [
      "Iter: 6\n",
      "======Direction: down======\n"
     ]
    },
    {
     "data": {
      "text/html": [
       "<h1>Score: 1024</h1><table style=\"border: 5px solid black;\"><tr><td style=\"border:3px solid black; text-align:center;\"\n",
       "         width=\"40\" height=\"40\">64</td><td style=\"border:3px solid black; text-align:center;\"\n",
       "         width=\"40\" height=\"40\">2</td><td style=\"border:3px solid black; text-align:center;\"\n",
       "         width=\"40\" height=\"40\"></td><td style=\"border:3px solid black; text-align:center;\"\n",
       "         width=\"40\" height=\"40\">16</td></tr><tr><td style=\"border:3px solid black; text-align:center;\"\n",
       "         width=\"40\" height=\"40\">4</td><td style=\"border:3px solid black; text-align:center;\"\n",
       "         width=\"40\" height=\"40\">256</td><td style=\"border:3px solid black; text-align:center;\"\n",
       "         width=\"40\" height=\"40\">128</td><td style=\"border:3px solid black; text-align:center;\"\n",
       "         width=\"40\" height=\"40\">256</td></tr><tr><td style=\"border:3px solid black; text-align:center;\"\n",
       "         width=\"40\" height=\"40\">128</td><td style=\"border:3px solid black; text-align:center;\"\n",
       "         width=\"40\" height=\"40\">32</td><td style=\"border:3px solid black; text-align:center;\"\n",
       "         width=\"40\" height=\"40\">64</td><td style=\"border:3px solid black; text-align:center;\"\n",
       "         width=\"40\" height=\"40\">64</td></tr><tr><td style=\"border:3px solid black; text-align:center;\"\n",
       "         width=\"40\" height=\"40\">4</td><td style=\"border:3px solid black; text-align:center;\"\n",
       "         width=\"40\" height=\"40\">4</td><td style=\"border:3px solid black; text-align:center;\"\n",
       "         width=\"40\" height=\"40\">1024</td><td style=\"border:3px solid black; text-align:center;\"\n",
       "         width=\"40\" height=\"40\">2</td></tr></table>"
      ],
      "text/plain": [
       "<IPython.core.display.HTML object>"
      ]
     },
     "metadata": {},
     "output_type": "display_data"
    },
    {
     "name": "stdout",
     "output_type": "stream",
     "text": [
      "Iter: 7\n",
      "======Direction: left======\n"
     ]
    },
    {
     "data": {
      "text/html": [
       "<h1>Score: 1024</h1><table style=\"border: 5px solid black;\"><tr><td style=\"border:3px solid black; text-align:center;\"\n",
       "         width=\"40\" height=\"40\">64</td><td style=\"border:3px solid black; text-align:center;\"\n",
       "         width=\"40\" height=\"40\">2</td><td style=\"border:3px solid black; text-align:center;\"\n",
       "         width=\"40\" height=\"40\">16</td><td style=\"border:3px solid black; text-align:center;\"\n",
       "         width=\"40\" height=\"40\"></td></tr><tr><td style=\"border:3px solid black; text-align:center;\"\n",
       "         width=\"40\" height=\"40\">4</td><td style=\"border:3px solid black; text-align:center;\"\n",
       "         width=\"40\" height=\"40\">256</td><td style=\"border:3px solid black; text-align:center;\"\n",
       "         width=\"40\" height=\"40\">128</td><td style=\"border:3px solid black; text-align:center;\"\n",
       "         width=\"40\" height=\"40\">256</td></tr><tr><td style=\"border:3px solid black; text-align:center;\"\n",
       "         width=\"40\" height=\"40\">128</td><td style=\"border:3px solid black; text-align:center;\"\n",
       "         width=\"40\" height=\"40\">32</td><td style=\"border:3px solid black; text-align:center;\"\n",
       "         width=\"40\" height=\"40\">128</td><td style=\"border:3px solid black; text-align:center;\"\n",
       "         width=\"40\" height=\"40\">2</td></tr><tr><td style=\"border:3px solid black; text-align:center;\"\n",
       "         width=\"40\" height=\"40\">8</td><td style=\"border:3px solid black; text-align:center;\"\n",
       "         width=\"40\" height=\"40\">1024</td><td style=\"border:3px solid black; text-align:center;\"\n",
       "         width=\"40\" height=\"40\">2</td><td style=\"border:3px solid black; text-align:center;\"\n",
       "         width=\"40\" height=\"40\"></td></tr></table>"
      ],
      "text/plain": [
       "<IPython.core.display.HTML object>"
      ]
     },
     "metadata": {},
     "output_type": "display_data"
    },
    {
     "name": "stdout",
     "output_type": "stream",
     "text": [
      "Iter: 8\n",
      "======Direction: down======\n"
     ]
    },
    {
     "data": {
      "text/html": [
       "<h1>Score: 1024</h1><table style=\"border: 5px solid black;\"><tr><td style=\"border:3px solid black; text-align:center;\"\n",
       "         width=\"40\" height=\"40\">64</td><td style=\"border:3px solid black; text-align:center;\"\n",
       "         width=\"40\" height=\"40\">2</td><td style=\"border:3px solid black; text-align:center;\"\n",
       "         width=\"40\" height=\"40\"></td><td style=\"border:3px solid black; text-align:center;\"\n",
       "         width=\"40\" height=\"40\">2</td></tr><tr><td style=\"border:3px solid black; text-align:center;\"\n",
       "         width=\"40\" height=\"40\">4</td><td style=\"border:3px solid black; text-align:center;\"\n",
       "         width=\"40\" height=\"40\">256</td><td style=\"border:3px solid black; text-align:center;\"\n",
       "         width=\"40\" height=\"40\">16</td><td style=\"border:3px solid black; text-align:center;\"\n",
       "         width=\"40\" height=\"40\"></td></tr><tr><td style=\"border:3px solid black; text-align:center;\"\n",
       "         width=\"40\" height=\"40\">128</td><td style=\"border:3px solid black; text-align:center;\"\n",
       "         width=\"40\" height=\"40\">32</td><td style=\"border:3px solid black; text-align:center;\"\n",
       "         width=\"40\" height=\"40\">256</td><td style=\"border:3px solid black; text-align:center;\"\n",
       "         width=\"40\" height=\"40\">256</td></tr><tr><td style=\"border:3px solid black; text-align:center;\"\n",
       "         width=\"40\" height=\"40\">8</td><td style=\"border:3px solid black; text-align:center;\"\n",
       "         width=\"40\" height=\"40\">1024</td><td style=\"border:3px solid black; text-align:center;\"\n",
       "         width=\"40\" height=\"40\">2</td><td style=\"border:3px solid black; text-align:center;\"\n",
       "         width=\"40\" height=\"40\">2</td></tr></table>"
      ],
      "text/plain": [
       "<IPython.core.display.HTML object>"
      ]
     },
     "metadata": {},
     "output_type": "display_data"
    },
    {
     "name": "stdout",
     "output_type": "stream",
     "text": [
      "Iter: 9\n",
      "======Direction: down======\n"
     ]
    },
    {
     "data": {
      "text/html": [
       "<h1>Score: 1024</h1><table style=\"border: 5px solid black;\"><tr><td style=\"border:3px solid black; text-align:center;\"\n",
       "         width=\"40\" height=\"40\">64</td><td style=\"border:3px solid black; text-align:center;\"\n",
       "         width=\"40\" height=\"40\">2</td><td style=\"border:3px solid black; text-align:center;\"\n",
       "         width=\"40\" height=\"40\"></td><td style=\"border:3px solid black; text-align:center;\"\n",
       "         width=\"40\" height=\"40\">4</td></tr><tr><td style=\"border:3px solid black; text-align:center;\"\n",
       "         width=\"40\" height=\"40\">4</td><td style=\"border:3px solid black; text-align:center;\"\n",
       "         width=\"40\" height=\"40\">256</td><td style=\"border:3px solid black; text-align:center;\"\n",
       "         width=\"40\" height=\"40\">16</td><td style=\"border:3px solid black; text-align:center;\"\n",
       "         width=\"40\" height=\"40\">2</td></tr><tr><td style=\"border:3px solid black; text-align:center;\"\n",
       "         width=\"40\" height=\"40\">128</td><td style=\"border:3px solid black; text-align:center;\"\n",
       "         width=\"40\" height=\"40\">32</td><td style=\"border:3px solid black; text-align:center;\"\n",
       "         width=\"40\" height=\"40\">256</td><td style=\"border:3px solid black; text-align:center;\"\n",
       "         width=\"40\" height=\"40\">256</td></tr><tr><td style=\"border:3px solid black; text-align:center;\"\n",
       "         width=\"40\" height=\"40\">8</td><td style=\"border:3px solid black; text-align:center;\"\n",
       "         width=\"40\" height=\"40\">1024</td><td style=\"border:3px solid black; text-align:center;\"\n",
       "         width=\"40\" height=\"40\">2</td><td style=\"border:3px solid black; text-align:center;\"\n",
       "         width=\"40\" height=\"40\">2</td></tr></table>"
      ],
      "text/plain": [
       "<IPython.core.display.HTML object>"
      ]
     },
     "metadata": {},
     "output_type": "display_data"
    },
    {
     "name": "stdout",
     "output_type": "stream",
     "text": [
      "Iter: 10\n",
      "======Direction: right======\n"
     ]
    },
    {
     "data": {
      "text/html": [
       "<h1>Score: 1024</h1><table style=\"border: 5px solid black;\"><tr><td style=\"border:3px solid black; text-align:center;\"\n",
       "         width=\"40\" height=\"40\"></td><td style=\"border:3px solid black; text-align:center;\"\n",
       "         width=\"40\" height=\"40\">64</td><td style=\"border:3px solid black; text-align:center;\"\n",
       "         width=\"40\" height=\"40\">2</td><td style=\"border:3px solid black; text-align:center;\"\n",
       "         width=\"40\" height=\"40\">4</td></tr><tr><td style=\"border:3px solid black; text-align:center;\"\n",
       "         width=\"40\" height=\"40\">4</td><td style=\"border:3px solid black; text-align:center;\"\n",
       "         width=\"40\" height=\"40\">256</td><td style=\"border:3px solid black; text-align:center;\"\n",
       "         width=\"40\" height=\"40\">16</td><td style=\"border:3px solid black; text-align:center;\"\n",
       "         width=\"40\" height=\"40\">2</td></tr><tr><td style=\"border:3px solid black; text-align:center;\"\n",
       "         width=\"40\" height=\"40\">2</td><td style=\"border:3px solid black; text-align:center;\"\n",
       "         width=\"40\" height=\"40\">128</td><td style=\"border:3px solid black; text-align:center;\"\n",
       "         width=\"40\" height=\"40\">32</td><td style=\"border:3px solid black; text-align:center;\"\n",
       "         width=\"40\" height=\"40\">512</td></tr><tr><td style=\"border:3px solid black; text-align:center;\"\n",
       "         width=\"40\" height=\"40\"></td><td style=\"border:3px solid black; text-align:center;\"\n",
       "         width=\"40\" height=\"40\">8</td><td style=\"border:3px solid black; text-align:center;\"\n",
       "         width=\"40\" height=\"40\">1024</td><td style=\"border:3px solid black; text-align:center;\"\n",
       "         width=\"40\" height=\"40\">4</td></tr></table>"
      ],
      "text/plain": [
       "<IPython.core.display.HTML object>"
      ]
     },
     "metadata": {},
     "output_type": "display_data"
    },
    {
     "name": "stdout",
     "output_type": "stream",
     "text": [
      "Iter: 11\n",
      "======Direction: up======\n"
     ]
    },
    {
     "data": {
      "text/html": [
       "<h1>Score: 1024</h1><table style=\"border: 5px solid black;\"><tr><td style=\"border:3px solid black; text-align:center;\"\n",
       "         width=\"40\" height=\"40\">4</td><td style=\"border:3px solid black; text-align:center;\"\n",
       "         width=\"40\" height=\"40\">64</td><td style=\"border:3px solid black; text-align:center;\"\n",
       "         width=\"40\" height=\"40\">2</td><td style=\"border:3px solid black; text-align:center;\"\n",
       "         width=\"40\" height=\"40\">4</td></tr><tr><td style=\"border:3px solid black; text-align:center;\"\n",
       "         width=\"40\" height=\"40\">2</td><td style=\"border:3px solid black; text-align:center;\"\n",
       "         width=\"40\" height=\"40\">256</td><td style=\"border:3px solid black; text-align:center;\"\n",
       "         width=\"40\" height=\"40\">16</td><td style=\"border:3px solid black; text-align:center;\"\n",
       "         width=\"40\" height=\"40\">2</td></tr><tr><td style=\"border:3px solid black; text-align:center;\"\n",
       "         width=\"40\" height=\"40\">4</td><td style=\"border:3px solid black; text-align:center;\"\n",
       "         width=\"40\" height=\"40\">128</td><td style=\"border:3px solid black; text-align:center;\"\n",
       "         width=\"40\" height=\"40\">32</td><td style=\"border:3px solid black; text-align:center;\"\n",
       "         width=\"40\" height=\"40\">512</td></tr><tr><td style=\"border:3px solid black; text-align:center;\"\n",
       "         width=\"40\" height=\"40\"></td><td style=\"border:3px solid black; text-align:center;\"\n",
       "         width=\"40\" height=\"40\">8</td><td style=\"border:3px solid black; text-align:center;\"\n",
       "         width=\"40\" height=\"40\">1024</td><td style=\"border:3px solid black; text-align:center;\"\n",
       "         width=\"40\" height=\"40\">4</td></tr></table>"
      ],
      "text/plain": [
       "<IPython.core.display.HTML object>"
      ]
     },
     "metadata": {},
     "output_type": "display_data"
    },
    {
     "name": "stdout",
     "output_type": "stream",
     "text": [
      "Iter: 12\n",
      "======Direction: left======\n"
     ]
    },
    {
     "data": {
      "text/html": [
       "<h1>Score: 1024</h1><table style=\"border: 5px solid black;\"><tr><td style=\"border:3px solid black; text-align:center;\"\n",
       "         width=\"40\" height=\"40\">4</td><td style=\"border:3px solid black; text-align:center;\"\n",
       "         width=\"40\" height=\"40\">64</td><td style=\"border:3px solid black; text-align:center;\"\n",
       "         width=\"40\" height=\"40\">2</td><td style=\"border:3px solid black; text-align:center;\"\n",
       "         width=\"40\" height=\"40\">4</td></tr><tr><td style=\"border:3px solid black; text-align:center;\"\n",
       "         width=\"40\" height=\"40\">2</td><td style=\"border:3px solid black; text-align:center;\"\n",
       "         width=\"40\" height=\"40\">256</td><td style=\"border:3px solid black; text-align:center;\"\n",
       "         width=\"40\" height=\"40\">16</td><td style=\"border:3px solid black; text-align:center;\"\n",
       "         width=\"40\" height=\"40\">2</td></tr><tr><td style=\"border:3px solid black; text-align:center;\"\n",
       "         width=\"40\" height=\"40\">4</td><td style=\"border:3px solid black; text-align:center;\"\n",
       "         width=\"40\" height=\"40\">128</td><td style=\"border:3px solid black; text-align:center;\"\n",
       "         width=\"40\" height=\"40\">32</td><td style=\"border:3px solid black; text-align:center;\"\n",
       "         width=\"40\" height=\"40\">512</td></tr><tr><td style=\"border:3px solid black; text-align:center;\"\n",
       "         width=\"40\" height=\"40\">8</td><td style=\"border:3px solid black; text-align:center;\"\n",
       "         width=\"40\" height=\"40\">1024</td><td style=\"border:3px solid black; text-align:center;\"\n",
       "         width=\"40\" height=\"40\">4</td><td style=\"border:3px solid black; text-align:center;\"\n",
       "         width=\"40\" height=\"40\">2</td></tr></table>"
      ],
      "text/plain": [
       "<IPython.core.display.HTML object>"
      ]
     },
     "metadata": {},
     "output_type": "display_data"
    },
    {
     "name": "stdout",
     "output_type": "stream",
     "text": [
      "Iter: 13\n",
      "======Direction: right======\n"
     ]
    },
    {
     "data": {
      "text/html": [
       "<h1>Score: 1024</h1><table style=\"border: 5px solid black;\"><tr><td style=\"border:3px solid black; text-align:center;\"\n",
       "         width=\"40\" height=\"40\">4</td><td style=\"border:3px solid black; text-align:center;\"\n",
       "         width=\"40\" height=\"40\">64</td><td style=\"border:3px solid black; text-align:center;\"\n",
       "         width=\"40\" height=\"40\">2</td><td style=\"border:3px solid black; text-align:center;\"\n",
       "         width=\"40\" height=\"40\">4</td></tr><tr><td style=\"border:3px solid black; text-align:center;\"\n",
       "         width=\"40\" height=\"40\">2</td><td style=\"border:3px solid black; text-align:center;\"\n",
       "         width=\"40\" height=\"40\">256</td><td style=\"border:3px solid black; text-align:center;\"\n",
       "         width=\"40\" height=\"40\">16</td><td style=\"border:3px solid black; text-align:center;\"\n",
       "         width=\"40\" height=\"40\">2</td></tr><tr><td style=\"border:3px solid black; text-align:center;\"\n",
       "         width=\"40\" height=\"40\">4</td><td style=\"border:3px solid black; text-align:center;\"\n",
       "         width=\"40\" height=\"40\">128</td><td style=\"border:3px solid black; text-align:center;\"\n",
       "         width=\"40\" height=\"40\">32</td><td style=\"border:3px solid black; text-align:center;\"\n",
       "         width=\"40\" height=\"40\">512</td></tr><tr><td style=\"border:3px solid black; text-align:center;\"\n",
       "         width=\"40\" height=\"40\">8</td><td style=\"border:3px solid black; text-align:center;\"\n",
       "         width=\"40\" height=\"40\">1024</td><td style=\"border:3px solid black; text-align:center;\"\n",
       "         width=\"40\" height=\"40\">4</td><td style=\"border:3px solid black; text-align:center;\"\n",
       "         width=\"40\" height=\"40\">2</td></tr></table>"
      ],
      "text/plain": [
       "<IPython.core.display.HTML object>"
      ]
     },
     "metadata": {},
     "output_type": "display_data"
    },
    {
     "name": "stdout",
     "output_type": "stream",
     "text": [
      "You lose! Score: 1024\n",
      "CPU times: user 670 ms, sys: 138 ms, total: 808 ms\n",
      "Wall time: 1.28 s\n"
     ]
    }
   ],
   "source": [
    "%%time\n",
    "# a random start\n",
    "game = Game(4, score_to_win=2048, random=True)\n",
    "display2.display(game)\n",
    "agent = ExpectiMaxAgent(game, display=display2)\n",
    "agent.play(verbose=True)"
   ]
  },
  {
   "cell_type": "code",
   "execution_count": 12,
   "metadata": {},
   "outputs": [
    {
     "name": "stdout",
     "output_type": "stream",
     "text": [
      "The ExpectiMax agent always search a fixed solution given certain board: 2\n",
      "The ExpectiMax agent always search a fixed solution given certain board: 2\n",
      "The ExpectiMax agent always search a fixed solution given certain board: 2\n",
      "The ExpectiMax agent always search a fixed solution given certain board: 2\n",
      "The ExpectiMax agent always search a fixed solution given certain board: 2\n",
      "The ExpectiMax agent always search a fixed solution given certain board: 2\n",
      "The ExpectiMax agent always search a fixed solution given certain board: 2\n",
      "The ExpectiMax agent always search a fixed solution given certain board: 2\n",
      "The ExpectiMax agent always search a fixed solution given certain board: 2\n",
      "The ExpectiMax agent always search a fixed solution given certain board: 2\n"
     ]
    }
   ],
   "source": [
    "for _ in range(10):\n",
    "    print(\"The ExpectiMax agent always search a fixed solution given certain board:\",\n",
    "          agent.step())"
   ]
  },
  {
   "cell_type": "code",
   "execution_count": 13,
   "metadata": {},
   "outputs": [
    {
     "name": "stdout",
     "output_type": "stream",
     "text": [
      "Running the loop manually...\n",
      "Moving to direction `1`...\n",
      "State:\t       0       0       0       0\n",
      "\t       2       0       0       0\n",
      "\t       0       0       0       4\n",
      "\t       0       0       0       2\n",
      "Score: 4\n"
     ]
    },
    {
     "data": {
      "text/html": [
       "<h1>Score: 4</h1><table style=\"border: 5px solid black;\"><tr><td style=\"border:3px solid black; text-align:center;\"\n",
       "         width=\"40\" height=\"40\"></td><td style=\"border:3px solid black; text-align:center;\"\n",
       "         width=\"40\" height=\"40\"></td><td style=\"border:3px solid black; text-align:center;\"\n",
       "         width=\"40\" height=\"40\"></td><td style=\"border:3px solid black; text-align:center;\"\n",
       "         width=\"40\" height=\"40\"></td></tr><tr><td style=\"border:3px solid black; text-align:center;\"\n",
       "         width=\"40\" height=\"40\">2</td><td style=\"border:3px solid black; text-align:center;\"\n",
       "         width=\"40\" height=\"40\"></td><td style=\"border:3px solid black; text-align:center;\"\n",
       "         width=\"40\" height=\"40\"></td><td style=\"border:3px solid black; text-align:center;\"\n",
       "         width=\"40\" height=\"40\"></td></tr><tr><td style=\"border:3px solid black; text-align:center;\"\n",
       "         width=\"40\" height=\"40\"></td><td style=\"border:3px solid black; text-align:center;\"\n",
       "         width=\"40\" height=\"40\"></td><td style=\"border:3px solid black; text-align:center;\"\n",
       "         width=\"40\" height=\"40\"></td><td style=\"border:3px solid black; text-align:center;\"\n",
       "         width=\"40\" height=\"40\">4</td></tr><tr><td style=\"border:3px solid black; text-align:center;\"\n",
       "         width=\"40\" height=\"40\"></td><td style=\"border:3px solid black; text-align:center;\"\n",
       "         width=\"40\" height=\"40\"></td><td style=\"border:3px solid black; text-align:center;\"\n",
       "         width=\"40\" height=\"40\"></td><td style=\"border:3px solid black; text-align:center;\"\n",
       "         width=\"40\" height=\"40\">2</td></tr></table>"
      ],
      "text/plain": [
       "<IPython.core.display.HTML object>"
      ]
     },
     "metadata": {},
     "output_type": "display_data"
    },
    {
     "name": "stdout",
     "output_type": "stream",
     "text": [
      "Moving to direction `3`...\n",
      "State:\t       2       0       0       4\n",
      "\t       0       0       0       2\n",
      "\t       2       0       0       0\n",
      "\t       0       0       0       0\n",
      "Score: 4\n"
     ]
    },
    {
     "data": {
      "text/html": [
       "<h1>Score: 4</h1><table style=\"border: 5px solid black;\"><tr><td style=\"border:3px solid black; text-align:center;\"\n",
       "         width=\"40\" height=\"40\">2</td><td style=\"border:3px solid black; text-align:center;\"\n",
       "         width=\"40\" height=\"40\"></td><td style=\"border:3px solid black; text-align:center;\"\n",
       "         width=\"40\" height=\"40\"></td><td style=\"border:3px solid black; text-align:center;\"\n",
       "         width=\"40\" height=\"40\">4</td></tr><tr><td style=\"border:3px solid black; text-align:center;\"\n",
       "         width=\"40\" height=\"40\"></td><td style=\"border:3px solid black; text-align:center;\"\n",
       "         width=\"40\" height=\"40\"></td><td style=\"border:3px solid black; text-align:center;\"\n",
       "         width=\"40\" height=\"40\"></td><td style=\"border:3px solid black; text-align:center;\"\n",
       "         width=\"40\" height=\"40\">2</td></tr><tr><td style=\"border:3px solid black; text-align:center;\"\n",
       "         width=\"40\" height=\"40\">2</td><td style=\"border:3px solid black; text-align:center;\"\n",
       "         width=\"40\" height=\"40\"></td><td style=\"border:3px solid black; text-align:center;\"\n",
       "         width=\"40\" height=\"40\"></td><td style=\"border:3px solid black; text-align:center;\"\n",
       "         width=\"40\" height=\"40\"></td></tr><tr><td style=\"border:3px solid black; text-align:center;\"\n",
       "         width=\"40\" height=\"40\"></td><td style=\"border:3px solid black; text-align:center;\"\n",
       "         width=\"40\" height=\"40\"></td><td style=\"border:3px solid black; text-align:center;\"\n",
       "         width=\"40\" height=\"40\"></td><td style=\"border:3px solid black; text-align:center;\"\n",
       "         width=\"40\" height=\"40\"></td></tr></table>"
      ],
      "text/plain": [
       "<IPython.core.display.HTML object>"
      ]
     },
     "metadata": {},
     "output_type": "display_data"
    },
    {
     "name": "stdout",
     "output_type": "stream",
     "text": [
      "Moving to direction `1`...\n",
      "State:\t       0       0       0       0\n",
      "\t       0       0       0       0\n",
      "\t       0       0       0       4\n",
      "\t       4       4       0       2\n",
      "Score: 4\n"
     ]
    },
    {
     "data": {
      "text/html": [
       "<h1>Score: 4</h1><table style=\"border: 5px solid black;\"><tr><td style=\"border:3px solid black; text-align:center;\"\n",
       "         width=\"40\" height=\"40\"></td><td style=\"border:3px solid black; text-align:center;\"\n",
       "         width=\"40\" height=\"40\"></td><td style=\"border:3px solid black; text-align:center;\"\n",
       "         width=\"40\" height=\"40\"></td><td style=\"border:3px solid black; text-align:center;\"\n",
       "         width=\"40\" height=\"40\"></td></tr><tr><td style=\"border:3px solid black; text-align:center;\"\n",
       "         width=\"40\" height=\"40\"></td><td style=\"border:3px solid black; text-align:center;\"\n",
       "         width=\"40\" height=\"40\"></td><td style=\"border:3px solid black; text-align:center;\"\n",
       "         width=\"40\" height=\"40\"></td><td style=\"border:3px solid black; text-align:center;\"\n",
       "         width=\"40\" height=\"40\"></td></tr><tr><td style=\"border:3px solid black; text-align:center;\"\n",
       "         width=\"40\" height=\"40\"></td><td style=\"border:3px solid black; text-align:center;\"\n",
       "         width=\"40\" height=\"40\"></td><td style=\"border:3px solid black; text-align:center;\"\n",
       "         width=\"40\" height=\"40\"></td><td style=\"border:3px solid black; text-align:center;\"\n",
       "         width=\"40\" height=\"40\">4</td></tr><tr><td style=\"border:3px solid black; text-align:center;\"\n",
       "         width=\"40\" height=\"40\">4</td><td style=\"border:3px solid black; text-align:center;\"\n",
       "         width=\"40\" height=\"40\">4</td><td style=\"border:3px solid black; text-align:center;\"\n",
       "         width=\"40\" height=\"40\"></td><td style=\"border:3px solid black; text-align:center;\"\n",
       "         width=\"40\" height=\"40\">2</td></tr></table>"
      ],
      "text/plain": [
       "<IPython.core.display.HTML object>"
      ]
     },
     "metadata": {},
     "output_type": "display_data"
    },
    {
     "name": "stdout",
     "output_type": "stream",
     "text": [
      "Moving to direction `3`...\n",
      "State:\t       4       4       0       4\n",
      "\t       0       0       0       2\n",
      "\t       0       2       0       0\n",
      "\t       0       0       0       0\n",
      "Score: 4\n"
     ]
    },
    {
     "data": {
      "text/html": [
       "<h1>Score: 4</h1><table style=\"border: 5px solid black;\"><tr><td style=\"border:3px solid black; text-align:center;\"\n",
       "         width=\"40\" height=\"40\">4</td><td style=\"border:3px solid black; text-align:center;\"\n",
       "         width=\"40\" height=\"40\">4</td><td style=\"border:3px solid black; text-align:center;\"\n",
       "         width=\"40\" height=\"40\"></td><td style=\"border:3px solid black; text-align:center;\"\n",
       "         width=\"40\" height=\"40\">4</td></tr><tr><td style=\"border:3px solid black; text-align:center;\"\n",
       "         width=\"40\" height=\"40\"></td><td style=\"border:3px solid black; text-align:center;\"\n",
       "         width=\"40\" height=\"40\"></td><td style=\"border:3px solid black; text-align:center;\"\n",
       "         width=\"40\" height=\"40\"></td><td style=\"border:3px solid black; text-align:center;\"\n",
       "         width=\"40\" height=\"40\">2</td></tr><tr><td style=\"border:3px solid black; text-align:center;\"\n",
       "         width=\"40\" height=\"40\"></td><td style=\"border:3px solid black; text-align:center;\"\n",
       "         width=\"40\" height=\"40\">2</td><td style=\"border:3px solid black; text-align:center;\"\n",
       "         width=\"40\" height=\"40\"></td><td style=\"border:3px solid black; text-align:center;\"\n",
       "         width=\"40\" height=\"40\"></td></tr><tr><td style=\"border:3px solid black; text-align:center;\"\n",
       "         width=\"40\" height=\"40\"></td><td style=\"border:3px solid black; text-align:center;\"\n",
       "         width=\"40\" height=\"40\"></td><td style=\"border:3px solid black; text-align:center;\"\n",
       "         width=\"40\" height=\"40\"></td><td style=\"border:3px solid black; text-align:center;\"\n",
       "         width=\"40\" height=\"40\"></td></tr></table>"
      ],
      "text/plain": [
       "<IPython.core.display.HTML object>"
      ]
     },
     "metadata": {},
     "output_type": "display_data"
    },
    {
     "name": "stdout",
     "output_type": "stream",
     "text": [
      "Moving to direction `0`...\n",
      "State:\t       8       4       0       0\n",
      "\t       2       2       0       0\n",
      "\t       2       0       0       0\n",
      "\t       0       0       0       0\n",
      "Score: 8\n"
     ]
    },
    {
     "data": {
      "text/html": [
       "<h1>Score: 8</h1><table style=\"border: 5px solid black;\"><tr><td style=\"border:3px solid black; text-align:center;\"\n",
       "         width=\"40\" height=\"40\">8</td><td style=\"border:3px solid black; text-align:center;\"\n",
       "         width=\"40\" height=\"40\">4</td><td style=\"border:3px solid black; text-align:center;\"\n",
       "         width=\"40\" height=\"40\"></td><td style=\"border:3px solid black; text-align:center;\"\n",
       "         width=\"40\" height=\"40\"></td></tr><tr><td style=\"border:3px solid black; text-align:center;\"\n",
       "         width=\"40\" height=\"40\">2</td><td style=\"border:3px solid black; text-align:center;\"\n",
       "         width=\"40\" height=\"40\">2</td><td style=\"border:3px solid black; text-align:center;\"\n",
       "         width=\"40\" height=\"40\"></td><td style=\"border:3px solid black; text-align:center;\"\n",
       "         width=\"40\" height=\"40\"></td></tr><tr><td style=\"border:3px solid black; text-align:center;\"\n",
       "         width=\"40\" height=\"40\">2</td><td style=\"border:3px solid black; text-align:center;\"\n",
       "         width=\"40\" height=\"40\"></td><td style=\"border:3px solid black; text-align:center;\"\n",
       "         width=\"40\" height=\"40\"></td><td style=\"border:3px solid black; text-align:center;\"\n",
       "         width=\"40\" height=\"40\"></td></tr><tr><td style=\"border:3px solid black; text-align:center;\"\n",
       "         width=\"40\" height=\"40\"></td><td style=\"border:3px solid black; text-align:center;\"\n",
       "         width=\"40\" height=\"40\"></td><td style=\"border:3px solid black; text-align:center;\"\n",
       "         width=\"40\" height=\"40\"></td><td style=\"border:3px solid black; text-align:center;\"\n",
       "         width=\"40\" height=\"40\"></td></tr></table>"
      ],
      "text/plain": [
       "<IPython.core.display.HTML object>"
      ]
     },
     "metadata": {},
     "output_type": "display_data"
    },
    {
     "name": "stdout",
     "output_type": "stream",
     "text": [
      "Moving to direction `1`...\n",
      "State:\t       0       0       0       4\n",
      "\t       0       0       0       0\n",
      "\t       8       4       0       0\n",
      "\t       4       2       0       0\n",
      "Score: 8\n"
     ]
    },
    {
     "data": {
      "text/html": [
       "<h1>Score: 8</h1><table style=\"border: 5px solid black;\"><tr><td style=\"border:3px solid black; text-align:center;\"\n",
       "         width=\"40\" height=\"40\"></td><td style=\"border:3px solid black; text-align:center;\"\n",
       "         width=\"40\" height=\"40\"></td><td style=\"border:3px solid black; text-align:center;\"\n",
       "         width=\"40\" height=\"40\"></td><td style=\"border:3px solid black; text-align:center;\"\n",
       "         width=\"40\" height=\"40\">4</td></tr><tr><td style=\"border:3px solid black; text-align:center;\"\n",
       "         width=\"40\" height=\"40\"></td><td style=\"border:3px solid black; text-align:center;\"\n",
       "         width=\"40\" height=\"40\"></td><td style=\"border:3px solid black; text-align:center;\"\n",
       "         width=\"40\" height=\"40\"></td><td style=\"border:3px solid black; text-align:center;\"\n",
       "         width=\"40\" height=\"40\"></td></tr><tr><td style=\"border:3px solid black; text-align:center;\"\n",
       "         width=\"40\" height=\"40\">8</td><td style=\"border:3px solid black; text-align:center;\"\n",
       "         width=\"40\" height=\"40\">4</td><td style=\"border:3px solid black; text-align:center;\"\n",
       "         width=\"40\" height=\"40\"></td><td style=\"border:3px solid black; text-align:center;\"\n",
       "         width=\"40\" height=\"40\"></td></tr><tr><td style=\"border:3px solid black; text-align:center;\"\n",
       "         width=\"40\" height=\"40\">4</td><td style=\"border:3px solid black; text-align:center;\"\n",
       "         width=\"40\" height=\"40\">2</td><td style=\"border:3px solid black; text-align:center;\"\n",
       "         width=\"40\" height=\"40\"></td><td style=\"border:3px solid black; text-align:center;\"\n",
       "         width=\"40\" height=\"40\"></td></tr></table>"
      ],
      "text/plain": [
       "<IPython.core.display.HTML object>"
      ]
     },
     "metadata": {},
     "output_type": "display_data"
    },
    {
     "name": "stdout",
     "output_type": "stream",
     "text": [
      "Moving to direction `1`...\n",
      "State:\t       4       0       0       0\n",
      "\t       0       0       0       0\n",
      "\t       8       4       0       0\n",
      "\t       4       2       0       4\n",
      "Score: 8\n"
     ]
    },
    {
     "data": {
      "text/html": [
       "<h1>Score: 8</h1><table style=\"border: 5px solid black;\"><tr><td style=\"border:3px solid black; text-align:center;\"\n",
       "         width=\"40\" height=\"40\">4</td><td style=\"border:3px solid black; text-align:center;\"\n",
       "         width=\"40\" height=\"40\"></td><td style=\"border:3px solid black; text-align:center;\"\n",
       "         width=\"40\" height=\"40\"></td><td style=\"border:3px solid black; text-align:center;\"\n",
       "         width=\"40\" height=\"40\"></td></tr><tr><td style=\"border:3px solid black; text-align:center;\"\n",
       "         width=\"40\" height=\"40\"></td><td style=\"border:3px solid black; text-align:center;\"\n",
       "         width=\"40\" height=\"40\"></td><td style=\"border:3px solid black; text-align:center;\"\n",
       "         width=\"40\" height=\"40\"></td><td style=\"border:3px solid black; text-align:center;\"\n",
       "         width=\"40\" height=\"40\"></td></tr><tr><td style=\"border:3px solid black; text-align:center;\"\n",
       "         width=\"40\" height=\"40\">8</td><td style=\"border:3px solid black; text-align:center;\"\n",
       "         width=\"40\" height=\"40\">4</td><td style=\"border:3px solid black; text-align:center;\"\n",
       "         width=\"40\" height=\"40\"></td><td style=\"border:3px solid black; text-align:center;\"\n",
       "         width=\"40\" height=\"40\"></td></tr><tr><td style=\"border:3px solid black; text-align:center;\"\n",
       "         width=\"40\" height=\"40\">4</td><td style=\"border:3px solid black; text-align:center;\"\n",
       "         width=\"40\" height=\"40\">2</td><td style=\"border:3px solid black; text-align:center;\"\n",
       "         width=\"40\" height=\"40\"></td><td style=\"border:3px solid black; text-align:center;\"\n",
       "         width=\"40\" height=\"40\">4</td></tr></table>"
      ],
      "text/plain": [
       "<IPython.core.display.HTML object>"
      ]
     },
     "metadata": {},
     "output_type": "display_data"
    },
    {
     "name": "stdout",
     "output_type": "stream",
     "text": [
      "Moving to direction `1`...\n",
      "State:\t       0       0       0       0\n",
      "\t       4       0       0       0\n",
      "\t       8       4       4       0\n",
      "\t       4       2       0       4\n",
      "Score: 8\n"
     ]
    },
    {
     "data": {
      "text/html": [
       "<h1>Score: 8</h1><table style=\"border: 5px solid black;\"><tr><td style=\"border:3px solid black; text-align:center;\"\n",
       "         width=\"40\" height=\"40\"></td><td style=\"border:3px solid black; text-align:center;\"\n",
       "         width=\"40\" height=\"40\"></td><td style=\"border:3px solid black; text-align:center;\"\n",
       "         width=\"40\" height=\"40\"></td><td style=\"border:3px solid black; text-align:center;\"\n",
       "         width=\"40\" height=\"40\"></td></tr><tr><td style=\"border:3px solid black; text-align:center;\"\n",
       "         width=\"40\" height=\"40\">4</td><td style=\"border:3px solid black; text-align:center;\"\n",
       "         width=\"40\" height=\"40\"></td><td style=\"border:3px solid black; text-align:center;\"\n",
       "         width=\"40\" height=\"40\"></td><td style=\"border:3px solid black; text-align:center;\"\n",
       "         width=\"40\" height=\"40\"></td></tr><tr><td style=\"border:3px solid black; text-align:center;\"\n",
       "         width=\"40\" height=\"40\">8</td><td style=\"border:3px solid black; text-align:center;\"\n",
       "         width=\"40\" height=\"40\">4</td><td style=\"border:3px solid black; text-align:center;\"\n",
       "         width=\"40\" height=\"40\">4</td><td style=\"border:3px solid black; text-align:center;\"\n",
       "         width=\"40\" height=\"40\"></td></tr><tr><td style=\"border:3px solid black; text-align:center;\"\n",
       "         width=\"40\" height=\"40\">4</td><td style=\"border:3px solid black; text-align:center;\"\n",
       "         width=\"40\" height=\"40\">2</td><td style=\"border:3px solid black; text-align:center;\"\n",
       "         width=\"40\" height=\"40\"></td><td style=\"border:3px solid black; text-align:center;\"\n",
       "         width=\"40\" height=\"40\">4</td></tr></table>"
      ],
      "text/plain": [
       "<IPython.core.display.HTML object>"
      ]
     },
     "metadata": {},
     "output_type": "display_data"
    },
    {
     "name": "stdout",
     "output_type": "stream",
     "text": [
      "Moving to direction `1`...\n",
      "State:\t       0       0       4       0\n",
      "\t       4       0       0       0\n",
      "\t       8       4       0       0\n",
      "\t       4       2       4       4\n",
      "Score: 8\n"
     ]
    },
    {
     "data": {
      "text/html": [
       "<h1>Score: 8</h1><table style=\"border: 5px solid black;\"><tr><td style=\"border:3px solid black; text-align:center;\"\n",
       "         width=\"40\" height=\"40\"></td><td style=\"border:3px solid black; text-align:center;\"\n",
       "         width=\"40\" height=\"40\"></td><td style=\"border:3px solid black; text-align:center;\"\n",
       "         width=\"40\" height=\"40\">4</td><td style=\"border:3px solid black; text-align:center;\"\n",
       "         width=\"40\" height=\"40\"></td></tr><tr><td style=\"border:3px solid black; text-align:center;\"\n",
       "         width=\"40\" height=\"40\">4</td><td style=\"border:3px solid black; text-align:center;\"\n",
       "         width=\"40\" height=\"40\"></td><td style=\"border:3px solid black; text-align:center;\"\n",
       "         width=\"40\" height=\"40\"></td><td style=\"border:3px solid black; text-align:center;\"\n",
       "         width=\"40\" height=\"40\"></td></tr><tr><td style=\"border:3px solid black; text-align:center;\"\n",
       "         width=\"40\" height=\"40\">8</td><td style=\"border:3px solid black; text-align:center;\"\n",
       "         width=\"40\" height=\"40\">4</td><td style=\"border:3px solid black; text-align:center;\"\n",
       "         width=\"40\" height=\"40\"></td><td style=\"border:3px solid black; text-align:center;\"\n",
       "         width=\"40\" height=\"40\"></td></tr><tr><td style=\"border:3px solid black; text-align:center;\"\n",
       "         width=\"40\" height=\"40\">4</td><td style=\"border:3px solid black; text-align:center;\"\n",
       "         width=\"40\" height=\"40\">2</td><td style=\"border:3px solid black; text-align:center;\"\n",
       "         width=\"40\" height=\"40\">4</td><td style=\"border:3px solid black; text-align:center;\"\n",
       "         width=\"40\" height=\"40\">4</td></tr></table>"
      ],
      "text/plain": [
       "<IPython.core.display.HTML object>"
      ]
     },
     "metadata": {},
     "output_type": "display_data"
    },
    {
     "name": "stdout",
     "output_type": "stream",
     "text": [
      "Moving to direction `0`...\n",
      "State:\t       4       0       0       4\n",
      "\t       4       0       0       0\n",
      "\t       8       4       0       0\n",
      "\t       4       2       8       0\n",
      "Score: 8\n"
     ]
    },
    {
     "data": {
      "text/html": [
       "<h1>Score: 8</h1><table style=\"border: 5px solid black;\"><tr><td style=\"border:3px solid black; text-align:center;\"\n",
       "         width=\"40\" height=\"40\">4</td><td style=\"border:3px solid black; text-align:center;\"\n",
       "         width=\"40\" height=\"40\"></td><td style=\"border:3px solid black; text-align:center;\"\n",
       "         width=\"40\" height=\"40\"></td><td style=\"border:3px solid black; text-align:center;\"\n",
       "         width=\"40\" height=\"40\">4</td></tr><tr><td style=\"border:3px solid black; text-align:center;\"\n",
       "         width=\"40\" height=\"40\">4</td><td style=\"border:3px solid black; text-align:center;\"\n",
       "         width=\"40\" height=\"40\"></td><td style=\"border:3px solid black; text-align:center;\"\n",
       "         width=\"40\" height=\"40\"></td><td style=\"border:3px solid black; text-align:center;\"\n",
       "         width=\"40\" height=\"40\"></td></tr><tr><td style=\"border:3px solid black; text-align:center;\"\n",
       "         width=\"40\" height=\"40\">8</td><td style=\"border:3px solid black; text-align:center;\"\n",
       "         width=\"40\" height=\"40\">4</td><td style=\"border:3px solid black; text-align:center;\"\n",
       "         width=\"40\" height=\"40\"></td><td style=\"border:3px solid black; text-align:center;\"\n",
       "         width=\"40\" height=\"40\"></td></tr><tr><td style=\"border:3px solid black; text-align:center;\"\n",
       "         width=\"40\" height=\"40\">4</td><td style=\"border:3px solid black; text-align:center;\"\n",
       "         width=\"40\" height=\"40\">2</td><td style=\"border:3px solid black; text-align:center;\"\n",
       "         width=\"40\" height=\"40\">8</td><td style=\"border:3px solid black; text-align:center;\"\n",
       "         width=\"40\" height=\"40\"></td></tr></table>"
      ],
      "text/plain": [
       "<IPython.core.display.HTML object>"
      ]
     },
     "metadata": {},
     "output_type": "display_data"
    }
   ],
   "source": [
    "print(\"Running the loop manually...\")\n",
    "\n",
    "game = Game(4, random=False, enable_rewrite_board=False)\n",
    "agent = RandomAgent(game)\n",
    "\n",
    "for _ in range(10):\n",
    "    direction = agent.step()\n",
    "    print(\"Moving to direction `%s`...\"%direction)\n",
    "    game.move(direction)\n",
    "    display1.display(game)\n",
    "    display2.display(game)"
   ]
  },
  {
   "cell_type": "code",
   "execution_count": 14,
   "metadata": {},
   "outputs": [
    {
     "name": "stdout",
     "output_type": "stream",
     "text": [
      "Disable to rewrite `board` manually.\n"
     ]
    }
   ],
   "source": [
    "game.board = game.board"
   ]
  },
  {
   "cell_type": "code",
   "execution_count": 15,
   "metadata": {},
   "outputs": [],
   "source": [
    "game.enable_rewrite_board = True"
   ]
  },
  {
   "cell_type": "code",
   "execution_count": 16,
   "metadata": {},
   "outputs": [],
   "source": [
    "game.board = game.board"
   ]
  },
  {
   "cell_type": "code",
   "execution_count": null,
   "metadata": {
    "collapsed": true
   },
   "outputs": [],
   "source": []
  },
  {
   "cell_type": "code",
   "execution_count": null,
   "metadata": {
    "collapsed": true
   },
   "outputs": [],
   "source": []
  }
 ],
 "metadata": {
  "kernelspec": {
   "display_name": "Python 3",
   "language": "python",
   "name": "python3"
  },
  "language_info": {
   "codemirror_mode": {
    "name": "ipython",
    "version": 3
   },
   "file_extension": ".py",
   "mimetype": "text/x-python",
   "name": "python",
   "nbconvert_exporter": "python",
   "pygments_lexer": "ipython3",
   "version": "3.6.6"
  }
 },
 "nbformat": 4,
 "nbformat_minor": 2
}
